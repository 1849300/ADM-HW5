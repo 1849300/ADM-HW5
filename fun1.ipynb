{
 "cells": [
  {
   "cell_type": "code",
   "execution_count": 42,
   "id": "96405db6-2526-4483-b13c-d216e3abb6c5",
   "metadata": {},
   "outputs": [],
   "source": [
    "import trees as t"
   ]
  },
  {
   "cell_type": "code",
   "execution_count": 54,
   "id": "372b772e-71d5-436a-8a43-a4a109a62d3d",
   "metadata": {},
   "outputs": [
    {
     "name": "stdout",
     "output_type": "stream",
     "text": [
      "DiGraph with 27076 nodes and 36458 edges\n"
     ]
    }
   ],
   "source": [
    "f = 'a2q'\n",
    "graph = t.build(f, '2012-01-01', '2012-01-07')\n",
    "# Date più recenti?\n",
    "print(graph)"
   ]
  },
  {
   "cell_type": "markdown",
   "id": "c4eeae07-50e5-421d-9b0a-04b1048f74fa",
   "metadata": {},
   "source": [
    "We create the graph only about answer to question from the 1st january of 2012 and the 7TH of january of 2012"
   ]
  },
  {
   "cell_type": "code",
   "execution_count": 47,
   "id": "efae7589-7134-499b-bf19-1bfe7a50d3ea",
   "metadata": {},
   "outputs": [],
   "source": [
    "def direc(graph):\n",
    "    for el in graph.edges:\n",
    "        if (el[1],el[0]) not in graph.edges:\n",
    "            return 'yes'\n",
    "    return 'no' "
   ]
  },
  {
   "cell_type": "code",
   "execution_count": 44,
   "id": "ad7c8ea7-c5a4-42f7-9d90-1b83ebd9a1da",
   "metadata": {},
   "outputs": [],
   "source": [
    "def fun1(graph):\n",
    "    #number of users\n",
    "    numusers=len(graph.nodes)\n",
    "    #number of answers to question\n",
    "    numanswers=len(graph.edges)\n",
    "    #average number of links for each node\n",
    "    average=numanswers/numusers\n",
    "    #density degree of the graph\n",
    "    tot=sum([graph.get_edge_data(el[0], el[1])['weight'] for el in graph.edges])\n",
    "    density = tot / ((numusers)*(numusers)-1)\n",
    "    density=round(density,4)\n",
    "    #the graph is sparse or dense?\n",
    "    if density<0.5:\n",
    "        result = 'yes'\n",
    "    else:\n",
    "        result= 'no'\n",
    "    \n",
    "    return direc(graph),numusers,numanswers,average,density,result\n"
   ]
  },
  {
   "cell_type": "code",
   "execution_count": 55,
   "id": "7a94fada-371e-4712-9edd-0e3c0e3cadc0",
   "metadata": {},
   "outputs": [
    {
     "data": {
      "text/plain": [
       "('yes', 27076, 36458, 1.3465061308908257, 0.0001, 'yes')"
      ]
     },
     "execution_count": 55,
     "metadata": {},
     "output_type": "execute_result"
    }
   ],
   "source": [
    "fun1(graph)"
   ]
  },
  {
   "cell_type": "markdown",
   "id": "702ea348-a677-42ca-b494-11faf4369512",
   "metadata": {},
   "source": [
    "VISUALIZATION\n"
   ]
  },
  {
   "cell_type": "code",
   "execution_count": 7,
   "id": "ada463aa-52c2-44df-965e-02e03d3e02f7",
   "metadata": {},
   "outputs": [],
   "source": [
    "import pandas as pd"
   ]
  },
  {
   "cell_type": "code",
   "execution_count": 56,
   "id": "7dc43e9e-dec7-4cc8-bc15-d38f996218e9",
   "metadata": {},
   "outputs": [],
   "source": [
    "data=fun1(graph)"
   ]
  },
  {
   "cell_type": "code",
   "execution_count": 57,
   "id": "b135cbc0-e28a-472e-8a8a-c8f9bd35d973",
   "metadata": {},
   "outputs": [
    {
     "data": {
      "text/html": [
       "<div>\n",
       "<style scoped>\n",
       "    .dataframe tbody tr th:only-of-type {\n",
       "        vertical-align: middle;\n",
       "    }\n",
       "\n",
       "    .dataframe tbody tr th {\n",
       "        vertical-align: top;\n",
       "    }\n",
       "\n",
       "    .dataframe thead th {\n",
       "        text-align: right;\n",
       "    }\n",
       "</style>\n",
       "<table border=\"1\" class=\"dataframe\">\n",
       "  <thead>\n",
       "    <tr style=\"text-align: right;\">\n",
       "      <th></th>\n",
       "      <th>result</th>\n",
       "    </tr>\n",
       "  </thead>\n",
       "  <tbody>\n",
       "    <tr>\n",
       "      <th>directed?</th>\n",
       "      <td>yes</td>\n",
       "    </tr>\n",
       "    <tr>\n",
       "      <th>N° of users</th>\n",
       "      <td>27076</td>\n",
       "    </tr>\n",
       "    <tr>\n",
       "      <th>N° of answers</th>\n",
       "      <td>36458</td>\n",
       "    </tr>\n",
       "    <tr>\n",
       "      <th>average</th>\n",
       "      <td>1.346506</td>\n",
       "    </tr>\n",
       "    <tr>\n",
       "      <th>density</th>\n",
       "      <td>0.0001</td>\n",
       "    </tr>\n",
       "    <tr>\n",
       "      <th>sparse?</th>\n",
       "      <td>yes</td>\n",
       "    </tr>\n",
       "  </tbody>\n",
       "</table>\n",
       "</div>"
      ],
      "text/plain": [
       "                 result\n",
       "directed?           yes\n",
       "N° of users       27076\n",
       "N° of answers     36458\n",
       "average        1.346506\n",
       "density          0.0001\n",
       "sparse?             yes"
      ]
     },
     "execution_count": 57,
     "metadata": {},
     "output_type": "execute_result"
    }
   ],
   "source": [
    "table = pd.DataFrame(data, columns =['result'])\n",
    "table.index =['directed?', 'N° of users', 'N° of answers', 'average', 'density', 'sparse?']\n",
    "table"
   ]
  },
  {
   "cell_type": "markdown",
   "id": "87990664-bb38-46bd-885b-4de136146820",
   "metadata": {},
   "source": [
    "as we can see from the table the graph is directed, and there are 27076 nodes. each node represent a user. There are 36548 edges. Each edges represent an answer. The average of the answers at each question is 1.347 so the density of the graph is very very small. "
   ]
  },
  {
   "cell_type": "code",
   "execution_count": 58,
   "id": "c2fdf102-c905-467c-b225-4c5ae805c2c1",
   "metadata": {},
   "outputs": [
    {
     "name": "stdout",
     "output_type": "stream",
     "text": [
      "224\n"
     ]
    },
    {
     "data": {
      "image/png": "[encoded data removed]",
      "text/plain": [
       "<Figure size 432x288 with 1 Axes>"
      ]
     },
     "metadata": {
      "needs_background": "light"
     },
     "output_type": "display_data"
    }
   ],
   "source": [
    "import matplotlib.pyplot as plt\n",
    "import networkx as nx\n",
    "import numpy as np\n",
    "\n",
    "def plot_degree_dist(grafo):\n",
    "    degrees = [graph.degree(n) for n in graph.nodes()]\n",
    "    print(max(degrees))\n",
    "    plt.hist(degrees,bins=np.arange(min(degrees), max(degrees)))\n",
    "    plt.show()\n",
    "\n",
    "plot_degree_dist(nx.gnp_random_graph(100, 0.5, directed=True))"
   ]
  }
 ],
 "metadata": {
  "kernelspec": {
   "display_name": "Python 3",
   "language": "python",
   "name": "python3"
  },
  "language_info": {
   "codemirror_mode": {
    "name": "ipython",
    "version": 3
   },
   "file_extension": ".py",
   "mimetype": "text/x-python",
   "name": "python",
   "nbconvert_exporter": "python",
   "pygments_lexer": "ipython3",
   "version": "3.8.8"
  }
 },
 "nbformat": 4,
 "nbformat_minor": 5
}
