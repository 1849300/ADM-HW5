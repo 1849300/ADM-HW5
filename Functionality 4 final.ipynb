{
 "cells": [
  {
   "cell_type": "markdown",
   "metadata": {},
   "source": [
    "# Functionality 4"
   ]
  },
  {
   "cell_type": "markdown",
   "metadata": {},
   "source": [
    "<p>\"find_unique_nodes\": it is a function that we only need to find the two unique nodes for the two time intervals (nodes which we then call in functionality 4).<p>\n",
    "<p>\"check_unique_nodes\": it is a function to check whether the two nodes in input are unique for each time interval.<p>"
   ]
  },
  {
   "cell_type": "code",
   "execution_count": 1,
   "metadata": {},
   "outputs": [],
   "source": [
    "import trees as t"
   ]
  },
  {
   "cell_type": "code",
   "execution_count": 2,
   "metadata": {},
   "outputs": [],
   "source": [
    "def find_unique_nodes(start_1, end_1, start_2, end_2):\n",
    "    # build two graphs for the two time intervals\n",
    "    graph_1 = t.build(\"a\", start_1, end_1)\n",
    "    graph_2 = t.build(\"a\", start_2, end_2)\n",
    "    u_1 = list()\n",
    "    u_2 = list()\n",
    "    # collecting the nodes in the two graphs\n",
    "    nodes_1 = list(graph_1.nodes())\n",
    "    nodes_2 = list(graph_2.nodes())\n",
    "    # collecting the nodes that are unique for interval 1 \n",
    "    for n in nodes_1:\n",
    "        if n not in nodes_2:\n",
    "            u_1.append(n)\n",
    "    # collecting the nodes that are unique for interval 2 \n",
    "    for m in nodes_2:\n",
    "        if m not in nodes_1:\n",
    "            u_2.append(m)\n",
    "    return u_1, u_2"
   ]
  },
  {
   "cell_type": "code",
   "execution_count": 3,
   "metadata": {},
   "outputs": [],
   "source": [
    "def check_unique_nodes(start_1, end_1, start_2, end_2, user_1, user_2):\n",
    "    check = True\n",
    "    \n",
    "    # build the two graphs for the intervals time in input\n",
    "    graph_1 = t.build(\"a\", start_1, end_1)\n",
    "    graph_2 = t.build(\"a\", start_2, end_2)\n",
    "   \n",
    "    # collecting the nodes in the two graphs\n",
    "    nodes_1 = list(graph_1.nodes())\n",
    "    nodes_2 = list(graph_2.nodes())\n",
    "    \n",
    "    # check wether the user_1 node in input is only in the graph_1\n",
    "    # check wether the user_2 node in input is only in the graph_2\n",
    "    if (user_1 in nodes_2) or (user_2 in nodes_1):\n",
    "        check = False\n",
    "    return check"
   ]
  },
  {
   "cell_type": "markdown",
   "metadata": {},
   "source": [
    "- The maximum flow and minimum cut theorem  says that, in a flow network, the maximum flow passing from the source to the target is equal to the sum of the weights of the edges in the minimum cut. Then, to find the minimum cut between two nodes, we consider the FordFulkerson algorithm, which returns the max flow of a graph.\n",
    "- We build the algorithm such that while exists a path between the soruce and the target in input, we calculate the path flow as the minimum of the weight of the path edges, then we will subtract this path_flow to the edges that are in the path.  \n",
    "- We count the number of edges that are in minimum cut considering the edges that have weight equal to 0 (as we have subtracted before path_flow to the edges in tha path)."
   ]
  },
  {
   "cell_type": "code",
   "execution_count": 78,
   "metadata": {},
   "outputs": [],
   "source": [
    "def mincut(graph, graph_copy, source, target):\n",
    "    # initialize that the path exist as true\n",
    "    path_exist = True\n",
    "    # loop until exist a path between the source and the target\n",
    "    while path_exist:\n",
    "        # initialize visited to keep track of the visited nodes, predecessor to keep track of the path\n",
    "        visited, predecessor, queue = list(), dict(), list()\n",
    "        visited.append(source)\n",
    "        queue.append(source)\n",
    "        # loop on the queue\n",
    "        while queue:\n",
    "            # select the first node from the queue\n",
    "            v = queue.pop(0)\n",
    "            for u in graph.neighbors(v):\n",
    "         # for each adjacent node to v we consider it if the node has not been visisted yet and if its weight is bigger than 0\n",
    "                if u not in visited and graph[v][u][\"weight\"] > 0:\n",
    "                    # we add the node u in queue and visisted list\n",
    "                    queue.append(u)\n",
    "                    visited.append(u)\n",
    "                    # if we have already considered an edge that has the node v as predecessor, we keep the edge with smaller weight\n",
    "                    # and we update predecessor\n",
    "                    if v in predecessor.values():\n",
    "                        predecessor[u] = v\n",
    "                        min_value = 999999\n",
    "                        # collecting all the nodes that has v as predecessor\n",
    "                        key = [key for key, value in predecessor.items() if value == v]\n",
    "                        for i in key:\n",
    "                            del predecessor[i]\n",
    "                            # finding the node that has smaller weight\n",
    "                            if graph[v][i][\"weight\"] < min_value:\n",
    "                                min_value = graph[v][i][\"weight\"]\n",
    "                                son = i\n",
    "                        # update predecessor\n",
    "                        predecessor[son] = v\n",
    "                    else:\n",
    "                        predecessor[u] = v\n",
    "                    # if we find a path between the source and the target we compute the path_flow\n",
    "                    if u == target:\n",
    "                        path_flow = min(graph[j][i][\"weight\"] for i,j in predecessor.items())\n",
    "                        for (i,j) in predecessor.items():\n",
    "                            graph[j][i][\"weight\"] -= path_flow\n",
    "                                \n",
    "                        queue = list()\n",
    "        # if it doesn't exist a path between source and target we update the boolan to stop the loop               \n",
    "        if target not in visited:\n",
    "            path_exist = False\n",
    "    # counting the number of edges we need to delect to disconnect source and target       \n",
    "    min_edges = 0\n",
    "    for i,j in graph.edges():\n",
    "        if (graph[i][j][\"weight\"] == 0) and (graph_copy[i][j][\"weight\"] > 0) and (i in visited):\n",
    "            min_edges += 1\n",
    "    return min_edges"
   ]
  },
  {
   "cell_type": "code",
   "execution_count": 5,
   "metadata": {},
   "outputs": [],
   "source": [
    "def functionality_4(start_1, end_1, start_2, end_2, user_1, user_2):\n",
    "    # check if the the nodes are unique for the two separated graphs\n",
    "    check = check_unique_nodes(start_1, end_1, start_2, end_2, user_1, user_2)\n",
    "    if check == False:\n",
    "        return \"The nodes in input should be unique for each interval\"\n",
    "    # create the graph considering two different intervals of time\n",
    "    graph = t.build(\"a\", start_1, end_1, start_2, end_2)\n",
    "    graph_copy = graph.copy()\n",
    "    #using FordFulkerson function to find the min_edges\n",
    "    min_edges = mincut(graph, graph_copy, user_1, user_2)\n",
    "    return min_edges"
   ]
  },
  {
   "cell_type": "code",
   "execution_count": 6,
   "metadata": {},
   "outputs": [
    {
     "name": "stdout",
     "output_type": "stream",
     "text": [
      "The nodes in input should be unique for each interval\n"
     ]
    }
   ],
   "source": [
    "print(functionality_4(\"2016-01-01\", \"2016-01-02\", \"2016-01-03\", \"2016-01-04\", 5730934, 3519202))"
   ]
  },
  {
   "cell_type": "code",
   "execution_count": 79,
   "metadata": {},
   "outputs": [
    {
     "name": "stdout",
     "output_type": "stream",
     "text": [
      "4\n"
     ]
    }
   ],
   "source": [
    "print(functionality_4(\"2016-01-01\", \"2016-01-02\", \"2016-01-03\", \"2016-01-04\", 5730934, 5738346))"
   ]
  }
 ],
 "metadata": {
  "kernelspec": {
   "display_name": "Python 3",
   "language": "python",
   "name": "python3"
  },
  "language_info": {
   "codemirror_mode": {
    "name": "ipython",
    "version": 3
   },
   "file_extension": ".py",
   "mimetype": "text/x-python",
   "name": "python",
   "nbconvert_exporter": "python",
   "pygments_lexer": "ipython3",
   "version": "3.8.5"
  }
 },
 "nbformat": 4,
 "nbformat_minor": 4
}
