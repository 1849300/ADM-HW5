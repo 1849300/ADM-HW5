{
 "cells": [
  {
   "cell_type": "code",
   "execution_count": 1,
   "id": "8c0745ca-308a-4f6b-8db3-7f807ca566e6",
   "metadata": {},
   "outputs": [],
   "source": [
    "import trees as t\n",
    "import math\n",
    "import numpy as np\n",
    "import random"
   ]
  },
  {
   "cell_type": "code",
   "execution_count": 15,
   "id": "f0a8a482-5086-4558-9ab2-82378a54a4ef",
   "metadata": {},
   "outputs": [
    {
     "name": "stdout",
     "output_type": "stream",
     "text": [
      "DiGraph with 10786 nodes and 29430 edges\n"
     ]
    }
   ],
   "source": [
    "f = 'a'\n",
    "graph = t.build(f, '2010-01-01', '2010-01-07')\n",
    "# Date più recenti?\n",
    "print(graph)"
   ]
  },
  {
   "cell_type": "code",
   "execution_count": 3,
   "id": "76be9351-a518-47c5-a417-4e92aa2be0a9",
   "metadata": {},
   "outputs": [],
   "source": [
    "def shortest_path(graph, s, t):\n",
    "    \n",
    "    if s == t:\n",
    "        return \"There is no path, source and target nodes are the same\", -1\n",
    "    \n",
    "    unvisited, shortest_path, predecessor = list(), dict(), dict()\n",
    "    \n",
    "    # second point\n",
    "    for node in graph.nodes():\n",
    "        shortest_path[node] = math.inf\n",
    "        unvisited.append(node)\n",
    "    shortest_path[s] = 0\n",
    "    \n",
    "    while unvisited:                          \n",
    "        current_node = None\n",
    "        for node in unvisited: \n",
    "            if current_node == None:\n",
    "                current_node = node\n",
    "            elif shortest_path[node] < shortest_path[current_node]:\n",
    "                current_node = node\n",
    "        for neighbor in graph.neighbors(current_node):\n",
    "            value = shortest_path[current_node] + graph[current_node][neighbor]['weight']\n",
    "            if value < shortest_path[neighbor]:\n",
    "                shortest_path[neighbor] = value\n",
    "                predecessor[neighbor] = current_node\n",
    " \n",
    "        unvisited.remove(current_node)\n",
    "    \n",
    "    # now we have to return the path using predecessor dictionary\n",
    "    if t not in predecessor:\n",
    "        return \"Not possible, there is no path between target and source\", -1\n",
    "    last = t\n",
    "    path = list([last])\n",
    "    while last != s:\n",
    "        path.append(predecessor[last])\n",
    "        last = predecessor[last]\n",
    "        \n",
    "    return path "
   ]
  },
  {
   "cell_type": "markdown",
   "id": "2dcd945e-5081-4096-afc6-8eb481627cc7",
   "metadata": {},
   "source": [
    "Here we consider p1, p and pn choosen that we are sure that return a complete path"
   ]
  },
  {
   "cell_type": "code",
   "execution_count": 4,
   "id": "644a71bd-32a0-4b7d-a400-378a4c6ab830",
   "metadata": {},
   "outputs": [],
   "source": [
    "p1=202019\n",
    "pn=227411\n",
    "p=[235648, 46724, 232279, 117859, 147095]"
   ]
  },
  {
   "cell_type": "markdown",
   "id": "4f70ec8a-a983-4eca-aa6e-ad5e24d925e6",
   "metadata": {},
   "source": [
    "Here we consider p1, p and pn choosen randomly"
   ]
  },
  {
   "cell_type": "code",
   "execution_count": 16,
   "id": "fab0ea05-42a6-49b8-8cec-0a2c4cdb75cc",
   "metadata": {},
   "outputs": [],
   "source": [
    "def selectRandom(nodes):\n",
    "  return random.choice(graph.nodes)\n",
    "\n",
    "def selectRandomSeq(nodes):\n",
    "  return np.random.choice(graph.nodes, 5)"
   ]
  },
  {
   "cell_type": "code",
   "execution_count": null,
   "id": "03b6bbda-3da8-4e8b-90db-c43245bd655d",
   "metadata": {},
   "outputs": [],
   "source": [
    "p1=selectRandom(list(graph.nodes))\n",
    "pn=selectRandom(list(graph.nodes))\n",
    "p=selectRandomSeq(list(graph.nodes))\n",
    "p=p.tolist()"
   ]
  },
  {
   "cell_type": "code",
   "execution_count": 95,
   "id": "a2778fa3-3347-4912-9569-cddf2cd00bbc",
   "metadata": {},
   "outputs": [
    {
     "data": {
      "text/plain": [
       "[188638, 179032, 40342, 80894, 180551]"
      ]
     },
     "execution_count": 95,
     "metadata": {},
     "output_type": "execute_result"
    }
   ],
   "source": [
    "p"
   ]
  },
  {
   "cell_type": "markdown",
   "id": "30548a54-a013-4fd8-9a41-3d7a638734ac",
   "metadata": {},
   "source": [
    "we will compute the shortest path between each node and his following, so we are sure that the path visits the nodes in p in order. Then we will join all the different paths and we will obtain the shortest path between p1 and pn that visits in order all the nodes in p."
   ]
  },
  {
   "cell_type": "code",
   "execution_count": 6,
   "id": "baeb7b8c-8ca0-48c2-8c88-bf1ffb902932",
   "metadata": {},
   "outputs": [],
   "source": [
    "def fun3(start, stop, p, p1, pn):\n",
    "    graph = t.build(f, start, stop)\n",
    "    #create the path between the starting node and the first of the sequence\n",
    "    path0=list(shortest_path(graph,p1,p[0])[::-1][:-1])\n",
    "    \n",
    "    #create a path between a node and his following in the sequence of nodes\n",
    "    path=[]\n",
    "    for i in range(len(p)-1):\n",
    "        percorso=list(shortest_path (graph,p[i],p[i+1]))\n",
    "        if percorso[1]==-1:\n",
    "            return \"Not possible\"\n",
    "        percorso=percorso[::-1]\n",
    "        path.extend(percorso[:-1])\n",
    "        #print(percorso)\n",
    "        #print(path)\n",
    "    \n",
    "    #create the path between the last node of the sequence and the last node of the path (pn)\n",
    "    pathn=list(shortest_path(graph,p[-1],pn)[::-1])\n",
    "    \n",
    "    path.extend(pathn)\n",
    "    path0.extend(path)\n",
    "    \n",
    "    return path0"
   ]
  },
  {
   "cell_type": "code",
   "execution_count": 8,
   "id": "eb4b5c64-adf9-4c84-b943-47c3d80007be",
   "metadata": {},
   "outputs": [
    {
     "data": {
      "text/plain": [
       "[202019,\n",
       " 46724,\n",
       " 235648,\n",
       " 46724,\n",
       " 235648,\n",
       " 58635,\n",
       " 167735,\n",
       " 26327,\n",
       " 69755,\n",
       " 242177,\n",
       " 161640,\n",
       " 232279,\n",
       " 117859,\n",
       " 110603,\n",
       " 32914,\n",
       " 84704,\n",
       " 198729,\n",
       " 223196,\n",
       " 147095,\n",
       " 223196,\n",
       " 18936,\n",
       " 198707,\n",
       " 227411]"
      ]
     },
     "execution_count": 8,
     "metadata": {},
     "output_type": "execute_result"
    }
   ],
   "source": [
    "fun3('2010-01-01','2010-01-07',p,p1,pn)"
   ]
  },
  {
   "cell_type": "markdown",
   "id": "9c565d8e-a0f0-4c24-8d50-e4c41aa02eff",
   "metadata": {},
   "source": [
    "In the cell above we can see all the nodes that are \"crossed\" by our path"
   ]
  },
  {
   "cell_type": "markdown",
   "id": "b9d2b235-efd4-4ff4-84e1-6eceeafe0a6b",
   "metadata": {},
   "source": [
    "VISUALIZATION"
   ]
  },
  {
   "cell_type": "code",
   "execution_count": 7,
   "id": "05fcc2b6-00ec-416d-9f36-a4e5a8f47dfb",
   "metadata": {},
   "outputs": [],
   "source": [
    "import networkx as nx\n",
    "import matplotlib.pyplot as plt"
   ]
  },
  {
   "cell_type": "code",
   "execution_count": 8,
   "id": "b406cdbd-ff0b-424e-973d-11c7ed8dc632",
   "metadata": {},
   "outputs": [],
   "source": [
    "def visual(start, stop, p, p1,pn):\n",
    "    lista=fun3('2010-01-01','2010-01-07',p,p1,pn)\n",
    "    edges=[]\n",
    "    for i in range(len(lista)-1):\n",
    "        edge = (lista[i], lista[i+1])\n",
    "        edges.append(edge)\n",
    "    print(edges)\n",
    "    grafo=nx.DiGraph(edges)\n",
    "    return grafo\n",
    "    "
   ]
  },
  {
   "cell_type": "code",
   "execution_count": 9,
   "id": "7a48772b-dbda-440a-9045-4ef97e31146b",
   "metadata": {},
   "outputs": [
    {
     "name": "stdout",
     "output_type": "stream",
     "text": [
      "[(202019, 46724), (46724, 235648), (235648, 46724), (46724, 235648), (235648, 58635), (58635, 167735), (167735, 26327), (26327, 69755), (69755, 242177), (242177, 161640), (161640, 232279), (232279, 117859), (117859, 110603), (110603, 32914), (32914, 84704), (84704, 198729), (198729, 223196), (223196, 147095), (147095, 223196), (223196, 18936), (18936, 198707), (198707, 227411)]\n"
     ]
    }
   ],
   "source": [
    "grafo=visual('2010-01-01','2010-01-07',p,p1,pn)"
   ]
  },
  {
   "cell_type": "code",
   "execution_count": 13,
   "id": "97479640-4e52-4939-a522-a3d09b9e0437",
   "metadata": {},
   "outputs": [
    {
     "data": {
      "image/png": "[encoded data removed]",
      "text/plain": [
       "<Figure size 432x288 with 1 Axes>"
      ]
     },
     "metadata": {},
     "output_type": "display_data"
    }
   ],
   "source": [
    "color=[]\n",
    "for node in grafo:\n",
    "    if node == p1  or node == pn:\n",
    "        color.append('green')\n",
    "    elif node in p:\n",
    "        color.append('yellow')\n",
    "    else:\n",
    "        color.append('blue')\n",
    "\n",
    "plt.clf()\n",
    "nx.draw_networkx(grafo, node_color=color)\n",
    "plt.show()"
   ]
  },
  {
   "cell_type": "markdown",
   "id": "8d40905c-8520-4744-8b07-42f2fa43bf0b",
   "metadata": {},
   "source": [
    "The plot show us the shortest path that goes from p1 to pn (green nodes on the path) and visit in order the nodes in p(yellow nodes on the path)."
   ]
  },
  {
   "cell_type": "code",
   "execution_count": null,
   "id": "75754f9f-2596-4090-8419-bc5ef89c12de",
   "metadata": {},
   "outputs": [],
   "source": [
    "grafo2=visual('2010-01-01','2010-01-07',p,p1,pn)"
   ]
  },
  {
   "cell_type": "code",
   "execution_count": null,
   "id": "f31992c6-f419-471e-a05a-bc2625eefe5c",
   "metadata": {},
   "outputs": [],
   "source": [
    "color=[]\n",
    "for node in grafo2:\n",
    "    if node == p1  or node == pn:\n",
    "        color.append('green')\n",
    "    if node in p:\n",
    "        color.append('yellow')\n",
    "    else:\n",
    "        color.append('blue')\n",
    "\n",
    "plt.clf()\n",
    "nx.draw_networkx(grafo2, node_color=color)\n",
    "plt.show()"
   ]
  },
  {
   "cell_type": "code",
   "execution_count": 15,
   "id": "900c2516-3db8-4bc8-ba49-54efb796c5c7",
   "metadata": {},
   "outputs": [
    {
     "name": "stdout",
     "output_type": "stream",
     "text": [
      "^C\n"
     ]
    }
   ],
   "source": [
    "!pip install networkx --upgrade"
   ]
  },
  {
   "cell_type": "code",
   "execution_count": 30,
   "id": "f5c1fa19-9daa-4151-b8be-5c4644acfd06",
   "metadata": {},
   "outputs": [
    {
     "name": "stdout",
     "output_type": "stream",
     "text": [
      "Collecting decorator==5.0.7\n",
      "  Downloading decorator-5.0.7-py3-none-any.whl (8.8 kB)\n",
      "Installing collected packages: decorator\n",
      "  Attempting uninstall: decorator\n",
      "    Found existing installation: decorator 5.0.6\n",
      "    Uninstalling decorator-5.0.6:\n",
      "      Successfully uninstalled decorator-5.0.6\n",
      "Successfully installed decorator-5.0.7\n"
     ]
    }
   ],
   "source": [
    "!pip install decorator==5.0.7"
   ]
  }
 ],
 "metadata": {
  "kernelspec": {
   "display_name": "Python 3",
   "language": "python",
   "name": "python3"
  },
  "language_info": {
   "codemirror_mode": {
    "name": "ipython",
    "version": 3
   },
   "file_extension": ".py",
   "mimetype": "text/x-python",
   "name": "python",
   "nbconvert_exporter": "python",
   "pygments_lexer": "ipython3",
   "version": "3.8.8"
  }
 },
 "nbformat": 4,
 "nbformat_minor": 5
}
