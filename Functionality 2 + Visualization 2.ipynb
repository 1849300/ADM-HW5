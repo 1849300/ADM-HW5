{
 "cells": [
  {
   "cell_type": "markdown",
   "metadata": {},
   "source": [
    "# Functionality 2"
   ]
  },
  {
   "cell_type": "markdown",
   "metadata": {},
   "source": [
    "First, we define shortest_path function, using the Dijkstra’s Algorithm: "
   ]
  },
  {
   "cell_type": "code",
   "execution_count": 1,
   "metadata": {},
   "outputs": [],
   "source": [
    "import trees as t\n",
    "import math\n",
    "from tqdm import tqdm\n",
    "import numpy as np\n",
    "import random\n",
    "import networkx as nx"
   ]
  },
  {
   "cell_type": "code",
   "execution_count": 2,
   "metadata": {},
   "outputs": [],
   "source": [
    "def shortest_path(graph, s, t):\n",
    "    \n",
    "    if s == t:\n",
    "        return \"There is no path, source and target nodes are the same\", -1\n",
    "    \n",
    "    unvisited, shortest_path, predecessor= list(), dict(), dict()\n",
    "    \n",
    "    # We set the distances between the source node and all other nodes to infinity, except for the distance between source \n",
    "    # and itself, which we set to 0.\n",
    "    for node in graph.nodes():\n",
    "        shortest_path[node] = math.inf\n",
    "        unvisited.append(node)\n",
    "    shortest_path[s] = 0\n",
    "    \n",
    "    # We loop untile we visit all the nodes in the graph\n",
    "    while unvisited:\n",
    "        # We choose the node with the smallest value as the “current node”\n",
    "        current_node = None\n",
    "        for node in unvisited: \n",
    "            if current_node == None:\n",
    "                current_node = node\n",
    "            if shortest_path[node] <= shortest_path[current_node]:\n",
    "                current_node = node\n",
    "                \n",
    "        if current_node == t:\n",
    "            break\n",
    "        # visit all the  neighbour of current_node. As we visit each neighbor, we update their tentative distance \n",
    "        # from the starting node\n",
    "        for neighbor in graph.neighbors(current_node):\n",
    "            value = shortest_path[current_node] + graph[current_node][neighbor]['weight']\n",
    "            if value < shortest_path[neighbor]:\n",
    "                shortest_path[neighbor] = value\n",
    "                predecessor[neighbor] = current_node\n",
    "        unvisited.remove(current_node)\n",
    "    \n",
    "    if t not in predecessor:\n",
    "        return \"Not possible, there is no path between target and source\", -1\n",
    "    # now we have to return the path using predecessor dictionary\n",
    "    \n",
    "    last = t\n",
    "    path = list([last])\n",
    "    while last != s:\n",
    "        path.append(predecessor[last])\n",
    "        last = predecessor[last]\n",
    "    \n",
    "    return path, shortest_path[t]  "
   ]
  },
  {
   "cell_type": "markdown",
   "metadata": {},
   "source": [
    "### Betweenness centrality\n",
    "Let $n_{s,t}^{v}$ be the number of shortest paths from $s$ to $t$ that pass through $v$ and let $n_{s,t}$ be the total number of shortest paths from $s$ to $t$. Then the betweenness centrality of node $v$ is:\n",
    "\n",
    "$\\displaystyle{B(v) = \\sum_{s, t} \\frac{n_{s,t}^{v}}{n_{s,t}}}$"
   ]
  },
  {
   "cell_type": "code",
   "execution_count": 3,
   "metadata": {},
   "outputs": [],
   "source": [
    "def betweenness(v, graph):\n",
    "    num, den = 0, 0\n",
    "    \n",
    "    #for each node we compute the shortest path with all the other nodes in the graph\n",
    "    for source in tqdm(graph.nodes()):\n",
    "        for target in graph.nodes():\n",
    "            if source != target and source != v and target != v:\n",
    "                path, dist = shortest_path(graph, source, target)\n",
    "                # if exist a shortest path between the source and the target, we update the denominator\n",
    "                if dist != -1:\n",
    "                    den += 1\n",
    "                    # if the node in input is in the shortest path then we update the numerator\n",
    "                    if v in path:\n",
    "                        num += 1\n",
    "    # we change the value of the denominator if it's equal to 0, to avoid dividing by zero                   \n",
    "    if den == 0:\n",
    "        den = 1\n",
    "    betweenness_centrality = num/den\n",
    "    return betweenness_centrality          "
   ]
  },
  {
   "cell_type": "markdown",
   "metadata": {},
   "source": [
    "### Closeness centrality\n",
    "$C(v)={\\frac  {N-1}{\\sum _{u}d(u,v)}}$\n",
    "- N is the number of total nodes in the graph\n",
    "- $d(u,v)$ is the distance between the nodes u and v"
   ]
  },
  {
   "cell_type": "code",
   "execution_count": 4,
   "metadata": {},
   "outputs": [],
   "source": [
    "def closeness(v, graph):\n",
    "    N = len(graph.nodes())\n",
    "    count = 0\n",
    "   # for each node in the graph we calculate the distance between this node and the node in input\n",
    "    for node in tqdm(graph.nodes()):\n",
    "        path, dist = shortest_path(graph, v, node)\n",
    "        # if exist a path between the node in input v and \"node\" then we update the count of the distances\n",
    "        if dist != -1:\n",
    "            count += dist\n",
    "    if count == 0:\n",
    "        return \"There is no path between the node in input and all other nodes in the graph!\"\n",
    "    \n",
    "    closeness_centrality = (N - 1) / count\n",
    "    return closeness_centrality"
   ]
  },
  {
   "cell_type": "markdown",
   "metadata": {},
   "source": [
    "### Degree Centrality\n",
    "\n",
    "$D(v)={\\frac  {degree(v)}{N-1}}$"
   ]
  },
  {
   "cell_type": "code",
   "execution_count": 5,
   "metadata": {},
   "outputs": [],
   "source": [
    "def degree_centrality(v, graph):\n",
    "    N = len(graph.nodes())\n",
    "    out_degree = 0\n",
    "    in_degree = 0\n",
    "    for (i,j) in graph.edges():\n",
    "        # for each edge in the graph we collect the number of outgoing edges from v\n",
    "        if i == v:\n",
    "            out_degree += 1\n",
    "        # for each edge in the graph we collect the number of ingoing edges in v\n",
    "        if j == v:\n",
    "            in_degree += 1\n",
    "    # the degree of a node is given by the sum of the in-degree and out-degree of the node\n",
    "    degree = in_degree + out_degree\n",
    "    degree_centrality = degree / (N-1)\n",
    "    return degree_centrality"
   ]
  },
  {
   "cell_type": "markdown",
   "metadata": {},
   "source": [
    "### Page rank\n",
    "First we create the matrix P using this formula:\n",
    "<p>$P={(1 - \\alpha) * M + \\alpha*P_{rw}}$<p>\n",
    "<p> - $N$ is the number of nodes in the graph<p>\n",
    "<p> - $M$ is a matrix $N*N$ with all components equal to $\\frac{1}{N}$<p>\n",
    "<p> - $P_{rw}$ is a matrix $N*N$ in which the components $a_{i,j}$ ,such that exist an edge between the node relative to $i$ row and the node relative to $j$ column, are given by the normalized weight of the edge. The nodes that do not have any outgoing edge, are such that their corresponding row in $P_{rw}$ has all columns equal to $\\frac{1}{N}$<p>"
   ]
  },
  {
   "cell_type": "code",
   "execution_count": 6,
   "metadata": {},
   "outputs": [],
   "source": [
    "def create_matrix_P(graph, alpha):\n",
    "    \n",
    "    N = len(graph.nodes())\n",
    "    # to make the graph stochastic\n",
    "    graph = nx.stochastic_graph(graph, weight='weight')\n",
    "    \n",
    "    # initialize P_rw and M matrix\n",
    "    P_rw = np.zeros([N,N])\n",
    "    M = np.full([N,N], 1/N)\n",
    "    \n",
    "    # for each node in the graph, we define and memorize its position number in order to build the P_rw matrix\n",
    "    pos = dict()\n",
    "    count_pos = 0\n",
    "    for node in graph.nodes():\n",
    "        pos[node] = count_pos\n",
    "        count_pos += 1\n",
    "    \n",
    "    # for each node we see the edges that exit from this node\n",
    "    for node in pos:\n",
    "        col = list()\n",
    "        for (i,j) in graph.edges():\n",
    "        # for each node we collect the node in which each edge goes\n",
    "            if node == i:\n",
    "                col.append(j)\n",
    "        # then we update the component relative to \"node\" and \"elem\" of the P_rw matrix \n",
    "        for elem in col:\n",
    "            P_rw[pos[node]][pos[elem]] = graph[node][elem][\"weight\"]\n",
    "    \n",
    "    # if the outdegree of a node is equal to 0, so the node is an \"autorithy\", the relative components of P_rw are equal to 1/N\n",
    "    for node in pos:\n",
    "        if np.sum(P_rw[pos[node]]) == 0:\n",
    "            P_rw[pos[node]] = np.full([1,N], 1/N)\n",
    "            \n",
    "    # finally we build the matrix P\n",
    "    P = ((1 - alpha) * M) + (alpha * P_rw)\n",
    "\n",
    "    return P, pos    "
   ]
  },
  {
   "cell_type": "markdown",
   "metadata": {},
   "source": [
    "Then, we compute the pagerank algorithm:\n",
    "- We start from select at random a starting node;\n",
    "- Then we initialize the $q_0$ vector, such that all of his components are equal to 0, except for the component relative to the starting node, which is equal to 1;\n",
    "- for each step $t$ of the algorithm we compute: $q_{t} = q_{t-1} * P$ and we check if the algorithm converges;\n",
    "- if the algorithm have converged we return the number of iterations needed and the page rank value relative to the node $v$ in input."
   ]
  },
  {
   "cell_type": "code",
   "execution_count": 7,
   "metadata": {},
   "outputs": [],
   "source": [
    "def pagerank_score(v, graph, alpha, max_iter, tol):\n",
    "    \n",
    "    N = len(graph.nodes())\n",
    "    P, pos = create_matrix_P(graph, alpha)\n",
    "    \n",
    "    if v not in graph.nodes():\n",
    "        return \"the node in input should be in the time interval graph\"\n",
    "    \n",
    "    # picking the start position at random\n",
    "    random.seed(123)\n",
    "    start_pos = random.randint(0, N)\n",
    "    \n",
    "    # find the position of the node in input using pos dictionary, we will use this position after when returning the pr\n",
    "    for key, value in pos.items():\n",
    "        if key == v:\n",
    "            input_node_pos = value\n",
    "    \n",
    "    # initialize the vector q such that there are all zeros except a one in the start_position\n",
    "    q_start = np.zeros(N)\n",
    "    q_start[start_pos] = 1\n",
    "    \n",
    "    #keep track of the convergence of the algorithm\n",
    "    convergence = False\n",
    "    \n",
    "    for step in tqdm(range(max_iter)):\n",
    "        # for every step we compute q_t = q_(t-1) * P\n",
    "        q_t = np.dot(q_start, P)\n",
    "        # calculate the error in order to check the convergence\n",
    "        err = sum([abs(q_t[i] - q_start[i]) for i in range(len(q_t))])\n",
    "        if err < N * tol:\n",
    "            print(\"the algorithm Page rank converges in \", step, \"iterations\")\n",
    "            return q_t[input_node_pos]\n",
    "        # update the vector q_start \n",
    "        q_start = q_t\n",
    "        \n",
    "    if convergence == False:\n",
    "        print(\"The algorithm did not converge for \", max_iter, \"number of iterations\")\n",
    "    \n",
    "    return q_t[input_node_pos]"
   ]
  },
  {
   "cell_type": "markdown",
   "metadata": {},
   "source": [
    "Let's now define the functionality 2 that takes in input <p>\n",
    "<p> - A user/node <p>\n",
    "<p> - An interval of time <p>\n",
    "<p> - One of the following metrics: Betweeness 1, PageRank, ClosenessCentrality 3, DegreeCentrality <p>\n",
    "The output is the value of the given metric applied over the complete graph for the given interval of time."
   ]
  },
  {
   "cell_type": "markdown",
   "metadata": {},
   "source": [
    "Note that we have used a different interval for the print of the betweenness because the running time of this metric is high, so we search for a time interval with maximum 100 nodes. Instead for the other metrics, we used a different time interval with 1500 nodes."
   ]
  },
  {
   "cell_type": "code",
   "execution_count": 8,
   "metadata": {},
   "outputs": [],
   "source": [
    "def functionality_2(v, start_interval, end_interval, metric, alpha=None, max_iter=None, tol = None):\n",
    "    graph = t.build(\"a\", start_interval, end_interval)\n",
    "    if metric == \"Betweeness\":\n",
    "        return betweenness(v, graph)\n",
    "    elif metric == \"PageRank\" and alpha != None and max_iter != None and tol != None:\n",
    "        return pagerank_score(v, graph, alpha, max_iter, tol)\n",
    "    elif metric == \"ClosenessCentrality\":\n",
    "        return closeness(v, graph)\n",
    "    elif metric == \"DegreeCentrality\":\n",
    "        return degree_centrality(v, graph)"
   ]
  },
  {
   "cell_type": "code",
   "execution_count": 9,
   "metadata": {},
   "outputs": [
    {
     "name": "stderr",
     "output_type": "stream",
     "text": [
      "100%|██████████████████████████████████████████████████████████████████████████████████| 98/98 [00:06<00:00, 15.46it/s]"
     ]
    },
    {
     "name": "stdout",
     "output_type": "stream",
     "text": [
      "0.1268472906403941\n"
     ]
    },
    {
     "name": "stderr",
     "output_type": "stream",
     "text": [
      "\n"
     ]
    }
   ],
   "source": [
    "# show the functionality two with betweenness metric\n",
    "print(functionality_2(49, \"2008-08-01\", \"2008-08-04\", \"Betweeness\"))"
   ]
  },
  {
   "cell_type": "code",
   "execution_count": 10,
   "metadata": {},
   "outputs": [
    {
     "name": "stderr",
     "output_type": "stream",
     "text": [
      "100%|██████████████████████████████████████████████████████████████████████████████| 1523/1523 [03:05<00:00,  8.21it/s]"
     ]
    },
    {
     "name": "stdout",
     "output_type": "stream",
     "text": [
      "0.25822870715982355\n"
     ]
    },
    {
     "name": "stderr",
     "output_type": "stream",
     "text": [
      "\n"
     ]
    }
   ],
   "source": [
    "# show the functionality two with closeness metric\n",
    "print(functionality_2(3347, \"2008-09-01\", \"2008-09-06\", \"ClosenessCentrality\"))"
   ]
  },
  {
   "cell_type": "code",
   "execution_count": 11,
   "metadata": {},
   "outputs": [
    {
     "name": "stderr",
     "output_type": "stream",
     "text": [
      " 12%|█████████▌                                                                      | 12/100 [00:00<00:00, 138.36it/s]"
     ]
    },
    {
     "name": "stdout",
     "output_type": "stream",
     "text": [
      "the algorithm Page rank converges in  12 iterations\n",
      "0.0010742618150226676\n"
     ]
    },
    {
     "name": "stderr",
     "output_type": "stream",
     "text": [
      "\n"
     ]
    }
   ],
   "source": [
    "# show the functionality two with pagerank metric\n",
    "print(functionality_2(3347, \"2008-09-01\", \"2008-09-06\", \"PageRank\", alpha=0.85, max_iter=100, tol = 0.000001))"
   ]
  },
  {
   "cell_type": "code",
   "execution_count": 12,
   "metadata": {},
   "outputs": [
    {
     "name": "stdout",
     "output_type": "stream",
     "text": [
      "0.01445466491458607\n"
     ]
    }
   ],
   "source": [
    "# show the functionality two with degree centrality metric\n",
    "print(functionality_2(3347, \"2008-09-01\", \"2008-09-06\", \"DegreeCentrality\"))"
   ]
  },
  {
   "cell_type": "markdown",
   "metadata": {},
   "source": [
    "# Visualization 2\n",
    "- Plot the input node and a subset of its neighbouring nodes such that the user can get a grasp of the importance of this input node. \n",
    "- Split the interval of time into equidistant ranges of time and show the metric evolution over time."
   ]
  },
  {
   "cell_type": "code",
   "execution_count": 13,
   "metadata": {},
   "outputs": [],
   "source": [
    "import matplotlib.pyplot as plt"
   ]
  },
  {
   "cell_type": "code",
   "execution_count": 18,
   "metadata": {},
   "outputs": [],
   "source": [
    "def visualization_2(v, start_interval, end_interval):\n",
    "    graph = t.build(\"a\", start_interval, end_interval)\n",
    "    g = nx.DiGraph()\n",
    "    # building a graph with only the neighbors of the node in input\n",
    "    for neighbor in graph.neighbors(v):\n",
    "        g.add_edge(v, neighbor, weight = graph[v][neighbor][\"weight\"])\n",
    "    nx.draw(g, node_color=\"green\", edge_color = \"gray\", node_size = 1000, width=1.5, with_labels=True)\n",
    "    return plt.show(g)"
   ]
  },
  {
   "cell_type": "code",
   "execution_count": 19,
   "metadata": {},
   "outputs": [
    {
     "data": {
      "image/png": "[encoded data removed]",
      "text/plain": [
       "<Figure size 432x288 with 1 Axes>"
      ]
     },
     "metadata": {},
     "output_type": "display_data"
    },
    {
     "name": "stdout",
     "output_type": "stream",
     "text": [
      "None\n"
     ]
    }
   ],
   "source": [
    "# visualization of the importance of node 3347 used for the prints of the closeness, pagerank and degree scores\n",
    "print(visualization_2(3347, \"2008-09-01\", \"2008-09-06\"))"
   ]
  },
  {
   "cell_type": "code",
   "execution_count": 20,
   "metadata": {},
   "outputs": [
    {
     "data": {
      "image/png": "[encoded data removed]",
      "text/plain": [
       "<Figure size 432x288 with 1 Axes>"
      ]
     },
     "metadata": {},
     "output_type": "display_data"
    },
    {
     "name": "stdout",
     "output_type": "stream",
     "text": [
      "None\n"
     ]
    }
   ],
   "source": [
    "# visualization of the importance of node 49 used for the prints of the betweennes\n",
    "print(visualization_2(49, \"2008-08-01\", \"2008-08-04\"))"
   ]
  },
  {
   "cell_type": "markdown",
   "metadata": {},
   "source": [
    "### Evolution of the Page rank and DegreeCentrality\n",
    "- We split the interval from 1-09-2008 to 06-09-2008 into 3 intervals of two days each.\n",
    "- We can see that the user 3347 has more pagerank score and degree centrality score in the second interval (3-4 september 2008)\n",
    "- In addition, the user 3347 has smallest pagerank score in the third interval, and differently has the smallest degree score in the first interval"
   ]
  },
  {
   "cell_type": "code",
   "execution_count": 21,
   "metadata": {},
   "outputs": [
    {
     "name": "stderr",
     "output_type": "stream",
     "text": [
      " 11%|████████▋                                                                      | 11/100 [00:00<00:00, 1379.00it/s]\n"
     ]
    },
    {
     "name": "stdout",
     "output_type": "stream",
     "text": [
      "the algorithm Page rank converges in  11 iterations\n"
     ]
    },
    {
     "name": "stderr",
     "output_type": "stream",
     "text": [
      " 20%|███████████████▊                                                               | 20/100 [00:00<00:00, 1253.12it/s]\n"
     ]
    },
    {
     "name": "stdout",
     "output_type": "stream",
     "text": [
      "the algorithm Page rank converges in  20 iterations\n"
     ]
    },
    {
     "name": "stderr",
     "output_type": "stream",
     "text": [
      " 10%|████████                                                                        | 10/100 [00:00<00:00, 999.14it/s]"
     ]
    },
    {
     "name": "stdout",
     "output_type": "stream",
     "text": [
      "the algorithm Page rank converges in  10 iterations\n",
      "0.0014757649433330003  is the value of the Pagerank for 1-2 settembre 2008\n",
      "0.0031540943459822997  is the value of the Pagerank for 3-4 settembre 2008\n",
      "0.0007977482829770688  is the value of the Pagerank for 5-6 settembre 2008\n"
     ]
    },
    {
     "name": "stderr",
     "output_type": "stream",
     "text": [
      "\n"
     ]
    },
    {
     "data": {
      "image/png": "[encoded data removed]",
      "text/plain": [
       "<Figure size 432x288 with 1 Axes>"
      ]
     },
     "metadata": {
      "needs_background": "light"
     },
     "output_type": "display_data"
    }
   ],
   "source": [
    "y = list()\n",
    "i = functionality_2(3347, \"2008-09-01\", \"2008-09-02\", \"PageRank\", alpha=0.85, max_iter=100, tol = 0.000001)\n",
    "j = functionality_2(3347, \"2008-09-03\", \"2008-09-04\", \"PageRank\", alpha=0.85, max_iter=100, tol = 0.000001)\n",
    "z = functionality_2(3347, \"2008-09-05\", \"2008-09-06\", \"PageRank\", alpha=0.85, max_iter=100, tol = 0.000001)\n",
    "\n",
    "y.append(i)\n",
    "y.append(j)\n",
    "y.append(z)\n",
    "\n",
    "print(i, \" is the value of the Pagerank for 1-2 settembre 2008\")\n",
    "print(j, \" is the value of the Pagerank for 3-4 settembre 2008\")\n",
    "print(z, \" is the value of the Pagerank for 5-6 settembre 2008\")\n",
    "\n",
    "\n",
    "fig = plt.figure()\n",
    "ax = plt.axes()\n",
    "\n",
    "x = [\"1-2 settembre 2008\", \"3-4 settembre 2008\", \"5-6 settembre 2008\"]\n",
    "ax.plot(x, y, color = (1.0,0.2,0.3));"
   ]
  },
  {
   "cell_type": "code",
   "execution_count": 22,
   "metadata": {},
   "outputs": [
    {
     "name": "stdout",
     "output_type": "stream",
     "text": [
      "0.0024330900243309003  is the value of the DegreeCentrality for 1-2 settembre 2008\n",
      "0.016793893129770993  is the value of the DegreeCentrality for 3-4 settembre 2008\n",
      "0.0046801872074883  is the value of the DegreeCentrality for 5-6 settembre 2008\n"
     ]
    },
    {
     "data": {
      "image/png": "[encoded data removed]",
      "text/plain": [
       "<Figure size 432x288 with 1 Axes>"
      ]
     },
     "metadata": {
      "needs_background": "light"
     },
     "output_type": "display_data"
    }
   ],
   "source": [
    "y = list()\n",
    "i = functionality_2(3347, \"2008-09-01\", \"2008-09-02\", \"DegreeCentrality\")\n",
    "j = functionality_2(3347, \"2008-09-03\", \"2008-09-04\", \"DegreeCentrality\")\n",
    "z = functionality_2(3347, \"2008-09-05\", \"2008-09-06\", \"DegreeCentrality\")\n",
    "\n",
    "y.append(i)\n",
    "y.append(j)\n",
    "y.append(z)\n",
    "\n",
    "print(i, \" is the value of the DegreeCentrality for 1-2 settembre 2008\")\n",
    "print(j, \" is the value of the DegreeCentrality for 3-4 settembre 2008\")\n",
    "print(z, \" is the value of the DegreeCentrality for 5-6 settembre 2008\")\n",
    "\n",
    "\n",
    "fig = plt.figure()\n",
    "ax = plt.axes()\n",
    "\n",
    "x = [\"1-2 settembre 2008\", \"3-4 settembre 2008\", \"5-6 settembre 2008\"]\n",
    "ax.plot(x, y, color = (1.0,0.2,0.3));"
   ]
  }
 ],
 "metadata": {
  "kernelspec": {
   "display_name": "Python 3",
   "language": "python",
   "name": "python3"
  },
  "language_info": {
   "codemirror_mode": {
    "name": "ipython",
    "version": 3
   },
   "file_extension": ".py",
   "mimetype": "text/x-python",
   "name": "python",
   "nbconvert_exporter": "python",
   "pygments_lexer": "ipython3",
   "version": "3.8.5"
  }
 },
 "nbformat": 4,
 "nbformat_minor": 4
}
