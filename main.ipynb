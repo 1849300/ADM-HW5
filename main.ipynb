{
 "cells": [
  {
   "cell_type": "markdown",
   "metadata": {},
   "source": [
    "# HW 5"
   ]
  },
  {
   "cell_type": "code",
   "execution_count": 1,
   "metadata": {},
   "outputs": [],
   "source": [
    "import trees as t\n",
    "import fun_one as fo\n",
    "import fun_two as ft"
   ]
  },
  {
   "cell_type": "markdown",
   "metadata": {},
   "source": [
    "## 1. Data\n",
    "We implemented all this part in the trees module but we want to say here a couple of things:\n",
    "- we use dates considering only day-date-year, so when we convert timestamps we \"discard\" the time part;\n",
    "- We have decided to ignore the \"self-interaction\" because we think interactions with oneself are not relevant;\n",
    "- We choose different intervals of time in order to show significant results taking into account computational time."
   ]
  },
  {
   "cell_type": "markdown",
   "metadata": {},
   "source": [
    "## 2/3. Functionalities\n",
    "Here we deal with the four functionalities"
   ]
  },
  {
   "cell_type": "markdown",
   "metadata": {},
   "source": [
    "### Functionality 1\n",
    "We build the graph and then we pass it to fun1 that computes all the stuff and return a table with results.\n",
    "For \"directed\" graph we mean that each couple of nodes linked by an edge in one direction has also another link in the opposite direction"
   ]
  },
  {
   "cell_type": "code",
   "execution_count": 2,
   "metadata": {},
   "outputs": [
    {
     "name": "stdout",
     "output_type": "stream",
     "text": [
      "DiGraph with 27076 nodes and 36458 edges\n"
     ]
    }
   ],
   "source": [
    "f = 'a2q'\n",
    "graph = t.build(f, '2012-01-01', '2012-01-07')\n",
    "print(graph)"
   ]
  },
  {
   "cell_type": "code",
   "execution_count": 3,
   "metadata": {},
   "outputs": [
    {
     "data": {
      "text/html": [
       "<div>\n",
       "<style scoped>\n",
       "    .dataframe tbody tr th:only-of-type {\n",
       "        vertical-align: middle;\n",
       "    }\n",
       "\n",
       "    .dataframe tbody tr th {\n",
       "        vertical-align: top;\n",
       "    }\n",
       "\n",
       "    .dataframe thead th {\n",
       "        text-align: right;\n",
       "    }\n",
       "</style>\n",
       "<table border=\"1\" class=\"dataframe\">\n",
       "  <thead>\n",
       "    <tr style=\"text-align: right;\">\n",
       "      <th></th>\n",
       "      <th>result</th>\n",
       "    </tr>\n",
       "  </thead>\n",
       "  <tbody>\n",
       "    <tr>\n",
       "      <th>directed?</th>\n",
       "      <td>yes</td>\n",
       "    </tr>\n",
       "    <tr>\n",
       "      <th>N° of users</th>\n",
       "      <td>27076</td>\n",
       "    </tr>\n",
       "    <tr>\n",
       "      <th>N° of answers</th>\n",
       "      <td>36458</td>\n",
       "    </tr>\n",
       "    <tr>\n",
       "      <th>average</th>\n",
       "      <td>1.346506</td>\n",
       "    </tr>\n",
       "    <tr>\n",
       "      <th>density</th>\n",
       "      <td>0.0001</td>\n",
       "    </tr>\n",
       "    <tr>\n",
       "      <th>sparse?</th>\n",
       "      <td>yes</td>\n",
       "    </tr>\n",
       "  </tbody>\n",
       "</table>\n",
       "</div>"
      ],
      "text/plain": [
       "                 result\n",
       "directed?           yes\n",
       "N° of users       27076\n",
       "N° of answers     36458\n",
       "average        1.346506\n",
       "density          0.0001\n",
       "sparse?             yes"
      ]
     },
     "execution_count": 3,
     "metadata": {},
     "output_type": "execute_result"
    }
   ],
   "source": [
    "t = fo.fun1(graph)\n",
    "t"
   ]
  },
  {
   "cell_type": "code",
   "execution_count": 4,
   "metadata": {},
   "outputs": [
    {
     "data": {
      "image/png": "[encoded data removed]",
      "text/plain": [
       "<Figure size 432x288 with 1 Axes>"
      ]
     },
     "metadata": {
      "needs_background": "light"
     },
     "output_type": "display_data"
    }
   ],
   "source": [
    "fo.plot_degree_dist(graph)"
   ]
  },
  {
   "cell_type": "markdown",
   "metadata": {},
   "source": [
    "This is a \"strange\" graph but this is due to the high degrees of a very small number of nodes, for example: we have a node with degree of 224 and this makes plot \"larger\" to represent also this node, we could have decided not to represent it but we would have represented something that no longer corresponded to the original graph so we decided to not manipulate anything."
   ]
  },
  {
   "cell_type": "markdown",
   "metadata": {},
   "source": [
    "### Mie prove"
   ]
  },
  {
   "cell_type": "code",
   "execution_count": 20,
   "metadata": {},
   "outputs": [
    {
     "name": "stdout",
     "output_type": "stream",
     "text": [
      "(4946454, 3003438)\n"
     ]
    }
   ],
   "source": [
    "cnt = 0\n",
    "bet = []\n",
    "mag = []\n",
    "for el in graph.edges:\n",
    "    if (el[1], el[0]) in graph.edges:\n",
    "        bet.append(el)\n",
    "    if graph.get_edge_data(el[0], el[1])['weight'] > 2:\n",
    "        mag.append(el)\n",
    "fin = list(set(bet).intersection(set(mag)))\n",
    "print(fin[0])"
   ]
  },
  {
   "cell_type": "code",
   "execution_count": 22,
   "metadata": {},
   "outputs": [
    {
     "data": {
      "text/plain": [
       "{'weight': 4.0}"
      ]
     },
     "execution_count": 22,
     "metadata": {},
     "output_type": "execute_result"
    }
   ],
   "source": [
    "graph.get_edge_data(fin[0][0], fin[0][1])"
   ]
  },
  {
   "cell_type": "markdown",
   "metadata": {},
   "source": [
    "## Algorithmic question"
   ]
  },
  {
   "cell_type": "code",
   "execution_count": 20,
   "metadata": {},
   "outputs": [
    {
     "name": "stdout",
     "output_type": "stream",
     "text": [
      "False\n",
      "True\n",
      "True\n"
     ]
    }
   ],
   "source": [
    "def solve(n, l):\n",
    "    # Vedere sotto sistemare\n",
    "    d = [0] * n\n",
    "\n",
    "    for el in l:\n",
    "        f = el[0] - 1\n",
    "        s = el[1] -1\n",
    "        if f == s:\n",
    "            return (\"A kid can't fight with himself\")\n",
    "        if d[f] == 0 and d[s] == 0:\n",
    "            d[f] = 1\n",
    "            d[s] = 2\n",
    "        elif d[f] == 0:\n",
    "            if d[s] == 1:\n",
    "                d[f] = 2\n",
    "            else:\n",
    "                d[f] = 1\n",
    "        elif d[s] == 0:\n",
    "            if d[f] == 1:\n",
    "                d[s] = 2\n",
    "            else:\n",
    "                d[s] = 1\n",
    "        elif d[f] == d[s]: # Se sono già stati assegnati non possono esser cambiati\n",
    "            return False\n",
    "\n",
    "    return True\n",
    "\n",
    "n = 10    \n",
    "pairs_no = [(1,3), (3,4), (1,4)]\n",
    "pairs_yes = [(1,2), (3,4), (4,5), (5,8), (1,10)]\n",
    "print(solve(n, pairs_no))\n",
    "print(solve(n, pairs_yes))"
   ]
  }
 ],
 "metadata": {
  "interpreter": {
   "hash": "7473d73b0517ab6f64aa731f2cb80c0acf19c95420055020da77d830c23b4531"
  },
  "kernelspec": {
   "display_name": "Python 3.8.12 64-bit ('base': conda)",
   "language": "python",
   "name": "python3"
  },
  "language_info": {
   "codemirror_mode": {
    "name": "ipython",
    "version": 3
   },
   "file_extension": ".py",
   "mimetype": "text/x-python",
   "name": "python",
   "nbconvert_exporter": "python",
   "pygments_lexer": "ipython3",
   "version": "3.8.12"
  },
  "orig_nbformat": 4
 },
 "nbformat": 4,
 "nbformat_minor": 2
}
