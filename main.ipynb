{
 "cells": [
  {
   "cell_type": "code",
   "execution_count": 3,
   "metadata": {},
   "outputs": [],
   "source": [
    "import trees as t"
   ]
  },
  {
   "cell_type": "code",
   "execution_count": 4,
   "metadata": {},
   "outputs": [
    {
     "name": "stdout",
     "output_type": "stream",
     "text": [
      "Graph with 216 nodes and 624 edges\n"
     ]
    }
   ],
   "source": [
    "f = 'a'\n",
    "pippo = t.build(f, '2008-07-31', '2008-08-06')\n",
    "# Date più recenti?\n",
    "print(pippo)"
   ]
  },
  {
   "cell_type": "code",
   "execution_count": null,
   "metadata": {},
   "outputs": [],
   "source": []
  },
  {
   "cell_type": "code",
   "execution_count": 12,
   "metadata": {},
   "outputs": [
    {
     "name": "stdout",
     "output_type": "stream",
     "text": [
      "1457273420 è Sun Mar  6 15:10:20 2016\n"
     ]
    }
   ],
   "source": [
    "import pandas as pd\n",
    "import time\n",
    "df = pd.read_csv('sx-stackoverflow-c2a.txt', sep= ' ', header = None) # DA NOTARE CHE NON SERVE LO SPAZIO\n",
    "df.columns = ['u', 'v', 'timestamp']\n",
    "m = max(df['timestamp'])\n",
    "t = time.ctime(m)\n",
    "print(m, 'è', t)"
   ]
  },
  {
   "cell_type": "markdown",
   "metadata": {},
   "source": [
    "## Algorithmic question"
   ]
  },
  {
   "cell_type": "code",
   "execution_count": 20,
   "metadata": {},
   "outputs": [
    {
     "name": "stdout",
     "output_type": "stream",
     "text": [
      "False\n",
      "True\n",
      "True\n"
     ]
    }
   ],
   "source": [
    "def solve(n, l):\n",
    "    # Vedere sotto sistemare\n",
    "    d = [0] * n\n",
    "\n",
    "    for el in l:\n",
    "        f = el[0] - 1\n",
    "        s = el[1] -1\n",
    "        if f == s:\n",
    "            return (\"A kid can't fight with himself\")\n",
    "        if d[f] == 0 and d[s] == 0:\n",
    "            d[f] = 1\n",
    "            d[s] = 2\n",
    "        elif d[f] == 0:\n",
    "            if d[s] == 1:\n",
    "                d[f] = 2\n",
    "            else:\n",
    "                d[f] = 1\n",
    "        elif d[s] == 0:\n",
    "            if d[f] == 1:\n",
    "                d[s] = 2\n",
    "            else:\n",
    "                d[s] = 1\n",
    "        elif d[f] == d[s]: # Se sono già stati assegnati non possono esser cambiati\n",
    "            return False\n",
    "\n",
    "    return True\n",
    "\n",
    "n = 10    \n",
    "pairs_no = [(1,3), (3,4), (1,4)]\n",
    "pairs_yes = [(1,2), (3,4), (4,5), (5,8), (1,10)]\n",
    "print(solve(n, pairs_no))\n",
    "print(solve(n, pairs_yes))"
   ]
  }
 ],
 "metadata": {
  "interpreter": {
   "hash": "7473d73b0517ab6f64aa731f2cb80c0acf19c95420055020da77d830c23b4531"
  },
  "kernelspec": {
   "display_name": "Python 3.8.12 64-bit ('base': conda)",
   "language": "python",
   "name": "python3"
  },
  "language_info": {
   "codemirror_mode": {
    "name": "ipython",
    "version": 3
   },
   "file_extension": ".py",
   "mimetype": "text/x-python",
   "name": "python",
   "nbconvert_exporter": "python",
   "pygments_lexer": "ipython3",
   "version": "3.8.12"
  },
  "orig_nbformat": 4
 },
 "nbformat": 4,
 "nbformat_minor": 2
}
