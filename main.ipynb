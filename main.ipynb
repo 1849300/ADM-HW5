{
 "cells": [
  {
   "cell_type": "markdown",
   "metadata": {},
   "source": [
    "# HW 5"
   ]
  },
  {
   "cell_type": "code",
   "execution_count": 3,
   "metadata": {},
   "outputs": [],
   "source": [
    "import matplotlib.pyplot as plt\n",
    "import trees as t\n",
    "import fun_one as fo\n",
    "import fun_two as ft\n",
    "import fun_four as ff"
   ]
  },
  {
   "cell_type": "markdown",
   "metadata": {},
   "source": [
    "## 1. Data\n",
    "We implemented all this part in the trees module but we want to say here a couple of things:\n",
    "- we use dates considering only day-date-year, so when we convert timestamps we \"discard\" the time part;\n",
    "- We have decided to ignore the \"self-interaction\" because we think interactions with oneself are not relevant;\n",
    "- We choose different intervals of time in order to show significant results taking into account computational time."
   ]
  },
  {
   "cell_type": "markdown",
   "metadata": {},
   "source": [
    "## 2/3. Functionalities\n",
    "Here we deal with the four functionalities"
   ]
  },
  {
   "cell_type": "markdown",
   "metadata": {},
   "source": [
    "### Functionality 1\n",
    "We build the graph and then we pass it to fun1 that computes all the stuff and return a table with results.\n",
    "For \"directed\" graph we mean that each couple of nodes linked by an edge in one direction has also another link in the opposite direction"
   ]
  },
  {
   "cell_type": "code",
   "execution_count": 2,
   "metadata": {},
   "outputs": [
    {
     "name": "stdout",
     "output_type": "stream",
     "text": [
      "DiGraph with 27076 nodes and 36458 edges\n"
     ]
    }
   ],
   "source": [
    "f = 'a2q'\n",
    "graph = t.build(f, '2012-01-01', '2012-01-07')\n",
    "print(graph)"
   ]
  },
  {
   "cell_type": "code",
   "execution_count": 3,
   "metadata": {},
   "outputs": [
    {
     "data": {
      "text/html": [
       "<div>\n",
       "<style scoped>\n",
       "    .dataframe tbody tr th:only-of-type {\n",
       "        vertical-align: middle;\n",
       "    }\n",
       "\n",
       "    .dataframe tbody tr th {\n",
       "        vertical-align: top;\n",
       "    }\n",
       "\n",
       "    .dataframe thead th {\n",
       "        text-align: right;\n",
       "    }\n",
       "</style>\n",
       "<table border=\"1\" class=\"dataframe\">\n",
       "  <thead>\n",
       "    <tr style=\"text-align: right;\">\n",
       "      <th></th>\n",
       "      <th>result</th>\n",
       "    </tr>\n",
       "  </thead>\n",
       "  <tbody>\n",
       "    <tr>\n",
       "      <th>directed?</th>\n",
       "      <td>yes</td>\n",
       "    </tr>\n",
       "    <tr>\n",
       "      <th>N° of users</th>\n",
       "      <td>27076</td>\n",
       "    </tr>\n",
       "    <tr>\n",
       "      <th>N° of answers</th>\n",
       "      <td>36458</td>\n",
       "    </tr>\n",
       "    <tr>\n",
       "      <th>average</th>\n",
       "      <td>1.346506</td>\n",
       "    </tr>\n",
       "    <tr>\n",
       "      <th>density</th>\n",
       "      <td>0.0001</td>\n",
       "    </tr>\n",
       "    <tr>\n",
       "      <th>sparse?</th>\n",
       "      <td>yes</td>\n",
       "    </tr>\n",
       "  </tbody>\n",
       "</table>\n",
       "</div>"
      ],
      "text/plain": [
       "                 result\n",
       "directed?           yes\n",
       "N° of users       27076\n",
       "N° of answers     36458\n",
       "average        1.346506\n",
       "density          0.0001\n",
       "sparse?             yes"
      ]
     },
     "execution_count": 3,
     "metadata": {},
     "output_type": "execute_result"
    }
   ],
   "source": [
    "t = fo.fun1(graph)\n",
    "t"
   ]
  },
  {
   "cell_type": "code",
   "execution_count": 4,
   "metadata": {},
   "outputs": [
    {
     "data": {
      "image/png": "[encoded data removed]",
      "text/plain": [
       "<Figure size 432x288 with 1 Axes>"
      ]
     },
     "metadata": {
      "needs_background": "light"
     },
     "output_type": "display_data"
    }
   ],
   "source": [
    "fo.plot_degree_dist(graph)"
   ]
  },
  {
   "cell_type": "markdown",
   "metadata": {},
   "source": [
    "This is a \"strange\" graph but this is due to the high degrees of a very small number of nodes, for example: we have a node with degree of 224 and this makes plot \"larger\" to represent also this node, we could have decided not to represent it but we would have represented something that no longer corresponded to the original graph so we decided to not manipulate anything."
   ]
  },
  {
   "cell_type": "markdown",
   "metadata": {},
   "source": [
    "### Functionality 2\n",
    "some theoretical hints:\n",
    "##### Betweenness centrality\n",
    "Let $n_{s,t}^{v}$ be the number of shortest paths from $s$ to $t$ that pass through $v$ and let $n_{s,t}$ be the total number of shortest paths from $s$ to $t$. Then the betweenness centrality of node $v$ is:\n",
    "\n",
    "$\\displaystyle{B(v) = \\sum_{s, t} \\frac{n_{s,t}^{v}}{n_{s,t}}}$\n",
    "\n",
    "##### Closeness centrality\n",
    "$C(v)={\\frac  {N-1}{\\sum _{u}d(u,v)}}$\n",
    "- N is the number of total nodes in the graph\n",
    "- $d(u,v)$ is the distance between the nodes u and v\n",
    "\n",
    "##### Degree Centrality\n",
    "$D(v)={\\frac  {degree(v)}{N-1}}$\n",
    "\n",
    "##### Page rank\n",
    "First we create the matrix P using this formula:\n",
    "$P={(1 - \\alpha) * M + \\alpha*P_{rw}}$\n",
    "Where:\n",
    "- $N$ is the number of nodes in the graph\n",
    "- $M$ is a matrix $N*N$ with all components equal to $\\frac{1}{N}$\n",
    "- $P_{rw}$ is a matrix $N*N$ in which the components $a_{i,j}$ ,such that exist an edge between the node relative to $i$ row and the node relative to $j$ column, are given by the normalized weight of the edge. The nodes that do not have any outgoing edge, are such that their corresponding row in $P_{rw}$ has all columns equal to $\\frac{1}{N}$"
   ]
  },
  {
   "cell_type": "markdown",
   "metadata": {},
   "source": [
    "Note that we have used a different interval for the print of the betweenness because the running time of this metric is high, so we search for a time interval with maximum 100 nodes. Instead for the other metrics, we used a different time interval with 1500 nodes."
   ]
  },
  {
   "cell_type": "code",
   "execution_count": 2,
   "metadata": {},
   "outputs": [
    {
     "name": "stderr",
     "output_type": "stream",
     "text": [
      "100%|██████████| 98/98 [00:03<00:00, 27.08it/s]"
     ]
    },
    {
     "name": "stdout",
     "output_type": "stream",
     "text": [
      "0.1268472906403941\n"
     ]
    },
    {
     "name": "stderr",
     "output_type": "stream",
     "text": [
      "\n"
     ]
    }
   ],
   "source": [
    "# Show the functionality two with betweenness metric\n",
    "print(ft.fun2(49, \"2008-08-01\", \"2008-08-04\", \"Betweeness\"))"
   ]
  },
  {
   "cell_type": "code",
   "execution_count": 3,
   "metadata": {},
   "outputs": [
    {
     "name": "stderr",
     "output_type": "stream",
     "text": [
      "100%|██████████| 1523/1523 [01:51<00:00, 13.62it/s]"
     ]
    },
    {
     "name": "stdout",
     "output_type": "stream",
     "text": [
      "0.25822870715982355\n"
     ]
    },
    {
     "name": "stderr",
     "output_type": "stream",
     "text": [
      "\n"
     ]
    }
   ],
   "source": [
    "# Show the functionality two with closeness metric\n",
    "print(ft.fun2(3347, \"2008-09-01\", \"2008-09-06\", \"ClosenessCentrality\"))"
   ]
  },
  {
   "cell_type": "code",
   "execution_count": 4,
   "metadata": {},
   "outputs": [
    {
     "name": "stderr",
     "output_type": "stream",
     "text": [
      " 12%|█▏        | 12/100 [00:00<00:00, 127.06it/s]"
     ]
    },
    {
     "name": "stdout",
     "output_type": "stream",
     "text": [
      "the algorithm Page rank converges in  12 iterations\n",
      "0.0010742618150226557\n"
     ]
    },
    {
     "name": "stderr",
     "output_type": "stream",
     "text": [
      "\n"
     ]
    }
   ],
   "source": [
    "# Show the functionality two with pagerank metric\n",
    "print(ft.fun2(3347, \"2008-09-01\", \"2008-09-06\", \"PageRank\", alpha=0.85, max_iter=100, tol = 0.000001))"
   ]
  },
  {
   "cell_type": "code",
   "execution_count": 5,
   "metadata": {},
   "outputs": [
    {
     "name": "stdout",
     "output_type": "stream",
     "text": [
      "0.01445466491458607\n"
     ]
    }
   ],
   "source": [
    "# Show the functionality two with degree centrality metric\n",
    "print(ft.fun2(3347, \"2008-09-01\", \"2008-09-06\", \"DegreeCentrality\"))"
   ]
  },
  {
   "cell_type": "markdown",
   "metadata": {},
   "source": [
    "#### Visualization part"
   ]
  },
  {
   "cell_type": "code",
   "execution_count": 2,
   "metadata": {},
   "outputs": [
    {
     "data": {
      "image/png": "[encoded data removed]",
      "text/plain": [
       "<Figure size 432x288 with 1 Axes>"
      ]
     },
     "metadata": {},
     "output_type": "display_data"
    }
   ],
   "source": [
    "# Visualization of the importance of node 3347 used for the prints of the closeness, pagerank and degree scores\n",
    "ft.vis2(3347, \"2008-09-01\", \"2008-09-06\")"
   ]
  },
  {
   "cell_type": "code",
   "execution_count": 3,
   "metadata": {},
   "outputs": [
    {
     "data": {
      "image/png": "[encoded data removed]",
      "text/plain": [
       "<Figure size 432x288 with 1 Axes>"
      ]
     },
     "metadata": {},
     "output_type": "display_data"
    }
   ],
   "source": [
    "# Visualization of the importance of node 49 used for the prints of the betweennes\n",
    "ft.vis2(49, \"2008-08-01\", \"2008-08-04\")"
   ]
  },
  {
   "cell_type": "markdown",
   "metadata": {},
   "source": [
    "### Evolution of the Page rank and DegreeCentrality\n",
    "- We split the interval from 1-09-2008 to 06-09-2008 into 3 intervals of two days each.\n",
    "- We can see that the user 3347 has more pagerank score and degree centrality score in the second interval (3-4 september 2008)\n",
    "- In addition, the user 3347 has smallest pagerank score in the third interval, and differently has the smallest degree score in the first interval"
   ]
  },
  {
   "cell_type": "code",
   "execution_count": 5,
   "metadata": {},
   "outputs": [
    {
     "name": "stderr",
     "output_type": "stream",
     "text": [
      " 11%|█         | 11/100 [00:00<00:00, 1414.21it/s]\n"
     ]
    },
    {
     "name": "stdout",
     "output_type": "stream",
     "text": [
      "the algorithm Page rank converges in  11 iterations\n"
     ]
    },
    {
     "name": "stderr",
     "output_type": "stream",
     "text": [
      " 20%|██        | 20/100 [00:00<00:00, 431.49it/s]\n"
     ]
    },
    {
     "name": "stdout",
     "output_type": "stream",
     "text": [
      "the algorithm Page rank converges in  20 iterations\n"
     ]
    },
    {
     "name": "stderr",
     "output_type": "stream",
     "text": [
      " 10%|█         | 10/100 [00:00<00:00, 793.25it/s]"
     ]
    },
    {
     "name": "stdout",
     "output_type": "stream",
     "text": [
      "the algorithm Page rank converges in  10 iterations\n",
      "0.0014757649433329912  is the value of the Pagerank for 1-2 settembre 2008\n",
      "0.0031540943459823024  is the value of the Pagerank for 3-4 settembre 2008\n",
      "0.0007977482829770693  is the value of the Pagerank for 5-6 settembre 2008\n"
     ]
    },
    {
     "name": "stderr",
     "output_type": "stream",
     "text": [
      "\n"
     ]
    },
    {
     "data": {
      "image/png": "[encoded data removed]",
      "text/plain": [
       "<Figure size 432x288 with 1 Axes>"
      ]
     },
     "metadata": {
      "needs_background": "light"
     },
     "output_type": "display_data"
    }
   ],
   "source": [
    "y = list()\n",
    "i = ft.fun2(3347, \"2008-09-01\", \"2008-09-02\", \"PageRank\", alpha=0.85, max_iter=100, tol = 0.000001)\n",
    "j = ft.fun2(3347, \"2008-09-03\", \"2008-09-04\", \"PageRank\", alpha=0.85, max_iter=100, tol = 0.000001)\n",
    "z = ft.fun2(3347, \"2008-09-05\", \"2008-09-06\", \"PageRank\", alpha=0.85, max_iter=100, tol = 0.000001)\n",
    "\n",
    "y.append(i)\n",
    "y.append(j)\n",
    "y.append(z)\n",
    "\n",
    "print(i, \" is the value of the Pagerank for 1-2 settembre 2008\")\n",
    "print(j, \" is the value of the Pagerank for 3-4 settembre 2008\")\n",
    "print(z, \" is the value of the Pagerank for 5-6 settembre 2008\")\n",
    "\n",
    "\n",
    "fig = plt.figure()\n",
    "ax = plt.axes()\n",
    "\n",
    "x = [\"1-2 settembre 2008\", \"3-4 settembre 2008\", \"5-6 settembre 2008\"]\n",
    "ax.plot(x, y, color = (1.0,0.2,0.3));"
   ]
  },
  {
   "cell_type": "code",
   "execution_count": 6,
   "metadata": {},
   "outputs": [
    {
     "name": "stdout",
     "output_type": "stream",
     "text": [
      "0.0024330900243309003  is the value of the DegreeCentrality for 1-2 settembre 2008\n",
      "0.016793893129770993  is the value of the DegreeCentrality for 3-4 settembre 2008\n",
      "0.0046801872074883  is the value of the DegreeCentrality for 5-6 settembre 2008\n"
     ]
    },
    {
     "data": {
      "image/png": "[encoded data removed]",
      "text/plain": [
       "<Figure size 432x288 with 1 Axes>"
      ]
     },
     "metadata": {
      "needs_background": "light"
     },
     "output_type": "display_data"
    }
   ],
   "source": [
    "y = list()\n",
    "i = ft.fun2(3347, \"2008-09-01\", \"2008-09-02\", \"DegreeCentrality\")\n",
    "j = ft.fun2(3347, \"2008-09-03\", \"2008-09-04\", \"DegreeCentrality\")\n",
    "z = ft.fun2(3347, \"2008-09-05\", \"2008-09-06\", \"DegreeCentrality\")\n",
    "\n",
    "y.append(i)\n",
    "y.append(j)\n",
    "y.append(z)\n",
    "\n",
    "print(i, \" is the value of the DegreeCentrality for 1-2 settembre 2008\")\n",
    "print(j, \" is the value of the DegreeCentrality for 3-4 settembre 2008\")\n",
    "print(z, \" is the value of the DegreeCentrality for 5-6 settembre 2008\")\n",
    "\n",
    "\n",
    "fig = plt.figure()\n",
    "ax = plt.axes()\n",
    "\n",
    "x = [\"1-2 settembre 2008\", \"3-4 settembre 2008\", \"5-6 settembre 2008\"]\n",
    "ax.plot(x, y, color = (1.0,0.2,0.3));"
   ]
  },
  {
   "cell_type": "markdown",
   "metadata": {},
   "source": [
    "### Functionality 4"
   ]
  },
  {
   "cell_type": "markdown",
   "metadata": {},
   "source": [
    "- The maximum flow and minimum cut theorem  says that, in a flow network, the maximum flow passing from the source to the target is equal to the sum of the weights of the edges in the minimum cut. Then, to find the minimum cut between two nodes, we consider the FordFulkerson algorithm, which returns the max flow of a graph.\n",
    "- We build the algorithm such that while exists a path between the soruce and the target in input, we calculate the path flow as the minimum of the weight of the path edges, then we will subtract this path_flow to the edges that are in the path.  \n",
    "- We count the number of edges that are in minimum cut considering the edges that have weight equal to 0 (as we have subtracted before path_flow to the edges in tha path)."
   ]
  },
  {
   "cell_type": "code",
   "execution_count": 2,
   "metadata": {},
   "outputs": [
    {
     "name": "stdout",
     "output_type": "stream",
     "text": [
      "The nodes in input should be unique for each interval\n"
     ]
    }
   ],
   "source": [
    "print(ff.fun4(\"2008-09-01\", \"2008-09-03\", \"2008-09-04\", \"2008-09-06\", 1600, 136))"
   ]
  },
  {
   "cell_type": "code",
   "execution_count": 4,
   "metadata": {},
   "outputs": [
    {
     "name": "stdout",
     "output_type": "stream",
     "text": [
      "(('2008-09-04', '2008-09-06'),)\n"
     ]
    },
    {
     "ename": "TypeError",
     "evalue": "strptime() argument 0 must be str, not <class 'tuple'>",
     "output_type": "error",
     "traceback": [
      "\u001b[0;31m---------------------------------------------------------------------------\u001b[0m",
      "\u001b[0;31mTypeError\u001b[0m                                 Traceback (most recent call last)",
      "\u001b[0;32m/tmp/ipykernel_10107/900006446.py\u001b[0m in \u001b[0;36m<module>\u001b[0;34m\u001b[0m\n\u001b[0;32m----> 1\u001b[0;31m \u001b[0mprint\u001b[0m\u001b[0;34m(\u001b[0m\u001b[0mff\u001b[0m\u001b[0;34m.\u001b[0m\u001b[0mfun4\u001b[0m\u001b[0;34m(\u001b[0m\u001b[0;34m\"2008-09-01\"\u001b[0m\u001b[0;34m,\u001b[0m \u001b[0;34m\"2008-09-03\"\u001b[0m\u001b[0;34m,\u001b[0m \u001b[0;34m\"2008-09-04\"\u001b[0m\u001b[0;34m,\u001b[0m \u001b[0;34m\"2008-09-06\"\u001b[0m\u001b[0;34m,\u001b[0m \u001b[0;36m3877\u001b[0m\u001b[0;34m,\u001b[0m \u001b[0;36m357\u001b[0m\u001b[0;34m)\u001b[0m\u001b[0;34m)\u001b[0m\u001b[0;34m\u001b[0m\u001b[0;34m\u001b[0m\u001b[0m\n\u001b[0m",
      "\u001b[0;32m~/Scrivania/Andrea/Scuola/ADM/HW5/ADM-HW5/fun_four.py\u001b[0m in \u001b[0;36mfun4\u001b[0;34m(start_1, end_1, start_2, end_2, user_1, user_2)\u001b[0m\n\u001b[1;32m    103\u001b[0m \u001b[0;34m\u001b[0m\u001b[0m\n\u001b[1;32m    104\u001b[0m     \u001b[0;31m# Create the graph considering two different intervals of time\u001b[0m\u001b[0;34m\u001b[0m\u001b[0;34m\u001b[0m\u001b[0;34m\u001b[0m\u001b[0m\n\u001b[0;32m--> 105\u001b[0;31m     \u001b[0mgraph\u001b[0m \u001b[0;34m=\u001b[0m \u001b[0mt\u001b[0m\u001b[0;34m.\u001b[0m\u001b[0mbuild\u001b[0m\u001b[0;34m(\u001b[0m\u001b[0;34m\"a\"\u001b[0m\u001b[0;34m,\u001b[0m \u001b[0mstart_1\u001b[0m\u001b[0;34m,\u001b[0m \u001b[0mend_1\u001b[0m\u001b[0;34m,\u001b[0m \u001b[0mstart_2\u001b[0m\u001b[0;34m,\u001b[0m \u001b[0mend_2\u001b[0m\u001b[0;34m)\u001b[0m\u001b[0;34m\u001b[0m\u001b[0;34m\u001b[0m\u001b[0m\n\u001b[0m\u001b[1;32m    106\u001b[0m     \u001b[0mgraph_copy\u001b[0m \u001b[0;34m=\u001b[0m \u001b[0mgraph\u001b[0m\u001b[0;34m.\u001b[0m\u001b[0mcopy\u001b[0m\u001b[0;34m(\u001b[0m\u001b[0;34m)\u001b[0m\u001b[0;34m\u001b[0m\u001b[0;34m\u001b[0m\u001b[0m\n\u001b[1;32m    107\u001b[0m     \u001b[0;31m# Using FordFulkerson function to find the min_edges\u001b[0m\u001b[0;34m\u001b[0m\u001b[0;34m\u001b[0m\u001b[0;34m\u001b[0m\u001b[0m\n",
      "\u001b[0;32m~/Scrivania/Andrea/Scuola/ADM/HW5/ADM-HW5/trees.py\u001b[0m in \u001b[0;36mbuild\u001b[0;34m(f, dstart, dstop, *args)\u001b[0m\n\u001b[1;32m     53\u001b[0m     \u001b[0mstop\u001b[0m \u001b[0;34m=\u001b[0m \u001b[0mtime\u001b[0m\u001b[0;34m.\u001b[0m\u001b[0mmktime\u001b[0m\u001b[0;34m(\u001b[0m\u001b[0mtime\u001b[0m\u001b[0;34m.\u001b[0m\u001b[0mstrptime\u001b[0m\u001b[0;34m(\u001b[0m\u001b[0mdstop\u001b[0m\u001b[0;34m,\u001b[0m \u001b[0;34m'%Y-%m-%d'\u001b[0m\u001b[0;34m)\u001b[0m\u001b[0;34m)\u001b[0m\u001b[0;34m\u001b[0m\u001b[0;34m\u001b[0m\u001b[0m\n\u001b[1;32m     54\u001b[0m \u001b[0;34m\u001b[0m\u001b[0m\n\u001b[0;32m---> 55\u001b[0;31m     \u001b[0mcreate_txt\u001b[0m\u001b[0;34m(\u001b[0m\u001b[0mf\u001b[0m\u001b[0;34m,\u001b[0m \u001b[0mstart\u001b[0m\u001b[0;34m,\u001b[0m \u001b[0mstop\u001b[0m\u001b[0;34m,\u001b[0m \u001b[0margs\u001b[0m\u001b[0;34m)\u001b[0m\u001b[0;34m\u001b[0m\u001b[0;34m\u001b[0m\u001b[0m\n\u001b[0m\u001b[1;32m     56\u001b[0m \u001b[0;34m\u001b[0m\u001b[0m\n\u001b[1;32m     57\u001b[0m     \u001b[0mG\u001b[0m \u001b[0;34m=\u001b[0m \u001b[0mnx\u001b[0m\u001b[0;34m.\u001b[0m\u001b[0mDiGraph\u001b[0m\u001b[0;34m(\u001b[0m\u001b[0;34m)\u001b[0m  \u001b[0;31m# Initialize graph\u001b[0m\u001b[0;34m\u001b[0m\u001b[0;34m\u001b[0m\u001b[0m\n",
      "\u001b[0;32m~/Scrivania/Andrea/Scuola/ADM/HW5/ADM-HW5/trees.py\u001b[0m in \u001b[0;36mcreate_txt\u001b[0;34m(f, start, stop, *args)\u001b[0m\n\u001b[1;32m     11\u001b[0m         \u001b[0mprint\u001b[0m\u001b[0;34m(\u001b[0m\u001b[0margs\u001b[0m\u001b[0;34m)\u001b[0m\u001b[0;34m\u001b[0m\u001b[0;34m\u001b[0m\u001b[0m\n\u001b[1;32m     12\u001b[0m         \u001b[0;31m# We convert in timestamp also the start and the end of the second interval\u001b[0m\u001b[0;34m\u001b[0m\u001b[0;34m\u001b[0m\u001b[0;34m\u001b[0m\u001b[0m\n\u001b[0;32m---> 13\u001b[0;31m         \u001b[0mstart2\u001b[0m \u001b[0;34m=\u001b[0m \u001b[0mtime\u001b[0m\u001b[0;34m.\u001b[0m\u001b[0mmktime\u001b[0m\u001b[0;34m(\u001b[0m\u001b[0mtime\u001b[0m\u001b[0;34m.\u001b[0m\u001b[0mstrptime\u001b[0m\u001b[0;34m(\u001b[0m\u001b[0margs\u001b[0m\u001b[0;34m[\u001b[0m\u001b[0;36m0\u001b[0m\u001b[0;34m]\u001b[0m\u001b[0;34m[\u001b[0m\u001b[0;36m0\u001b[0m\u001b[0;34m]\u001b[0m\u001b[0;34m,\u001b[0m \u001b[0;34m'%Y-%m-%d'\u001b[0m\u001b[0;34m)\u001b[0m\u001b[0;34m)\u001b[0m\u001b[0;34m\u001b[0m\u001b[0;34m\u001b[0m\u001b[0m\n\u001b[0m\u001b[1;32m     14\u001b[0m         \u001b[0mstop2\u001b[0m \u001b[0;34m=\u001b[0m \u001b[0mtime\u001b[0m\u001b[0;34m.\u001b[0m\u001b[0mmktime\u001b[0m\u001b[0;34m(\u001b[0m\u001b[0mtime\u001b[0m\u001b[0;34m.\u001b[0m\u001b[0mstrptime\u001b[0m\u001b[0;34m(\u001b[0m\u001b[0margs\u001b[0m\u001b[0;34m[\u001b[0m\u001b[0;36m0\u001b[0m\u001b[0;34m]\u001b[0m\u001b[0;34m[\u001b[0m\u001b[0;36m1\u001b[0m\u001b[0;34m]\u001b[0m\u001b[0;34m,\u001b[0m \u001b[0;34m'%Y-%m-%d'\u001b[0m\u001b[0;34m)\u001b[0m\u001b[0;34m)\u001b[0m\u001b[0;34m\u001b[0m\u001b[0;34m\u001b[0m\u001b[0m\n\u001b[1;32m     15\u001b[0m \u001b[0;34m\u001b[0m\u001b[0m\n",
      "\u001b[0;32m~/anaconda3/lib/python3.8/_strptime.py\u001b[0m in \u001b[0;36m_strptime_time\u001b[0;34m(data_string, format)\u001b[0m\n\u001b[1;32m    560\u001b[0m     \"\"\"Return a time struct based on the input string and the\n\u001b[1;32m    561\u001b[0m     format string.\"\"\"\n\u001b[0;32m--> 562\u001b[0;31m     \u001b[0mtt\u001b[0m \u001b[0;34m=\u001b[0m \u001b[0m_strptime\u001b[0m\u001b[0;34m(\u001b[0m\u001b[0mdata_string\u001b[0m\u001b[0;34m,\u001b[0m \u001b[0mformat\u001b[0m\u001b[0;34m)\u001b[0m\u001b[0;34m[\u001b[0m\u001b[0;36m0\u001b[0m\u001b[0;34m]\u001b[0m\u001b[0;34m\u001b[0m\u001b[0;34m\u001b[0m\u001b[0m\n\u001b[0m\u001b[1;32m    563\u001b[0m     \u001b[0;32mreturn\u001b[0m \u001b[0mtime\u001b[0m\u001b[0;34m.\u001b[0m\u001b[0mstruct_time\u001b[0m\u001b[0;34m(\u001b[0m\u001b[0mtt\u001b[0m\u001b[0;34m[\u001b[0m\u001b[0;34m:\u001b[0m\u001b[0mtime\u001b[0m\u001b[0;34m.\u001b[0m\u001b[0m_STRUCT_TM_ITEMS\u001b[0m\u001b[0;34m]\u001b[0m\u001b[0;34m)\u001b[0m\u001b[0;34m\u001b[0m\u001b[0;34m\u001b[0m\u001b[0m\n\u001b[1;32m    564\u001b[0m \u001b[0;34m\u001b[0m\u001b[0m\n",
      "\u001b[0;32m~/anaconda3/lib/python3.8/_strptime.py\u001b[0m in \u001b[0;36m_strptime\u001b[0;34m(data_string, format)\u001b[0m\n\u001b[1;32m    315\u001b[0m         \u001b[0;32mif\u001b[0m \u001b[0;32mnot\u001b[0m \u001b[0misinstance\u001b[0m\u001b[0;34m(\u001b[0m\u001b[0marg\u001b[0m\u001b[0;34m,\u001b[0m \u001b[0mstr\u001b[0m\u001b[0;34m)\u001b[0m\u001b[0;34m:\u001b[0m\u001b[0;34m\u001b[0m\u001b[0;34m\u001b[0m\u001b[0m\n\u001b[1;32m    316\u001b[0m             \u001b[0mmsg\u001b[0m \u001b[0;34m=\u001b[0m \u001b[0;34m\"strptime() argument {} must be str, not {}\"\u001b[0m\u001b[0;34m\u001b[0m\u001b[0;34m\u001b[0m\u001b[0m\n\u001b[0;32m--> 317\u001b[0;31m             \u001b[0;32mraise\u001b[0m \u001b[0mTypeError\u001b[0m\u001b[0;34m(\u001b[0m\u001b[0mmsg\u001b[0m\u001b[0;34m.\u001b[0m\u001b[0mformat\u001b[0m\u001b[0;34m(\u001b[0m\u001b[0mindex\u001b[0m\u001b[0;34m,\u001b[0m \u001b[0mtype\u001b[0m\u001b[0;34m(\u001b[0m\u001b[0marg\u001b[0m\u001b[0;34m)\u001b[0m\u001b[0;34m)\u001b[0m\u001b[0;34m)\u001b[0m\u001b[0;34m\u001b[0m\u001b[0;34m\u001b[0m\u001b[0m\n\u001b[0m\u001b[1;32m    318\u001b[0m \u001b[0;34m\u001b[0m\u001b[0m\n\u001b[1;32m    319\u001b[0m     \u001b[0;32mglobal\u001b[0m \u001b[0m_TimeRE_cache\u001b[0m\u001b[0;34m,\u001b[0m \u001b[0m_regex_cache\u001b[0m\u001b[0;34m\u001b[0m\u001b[0;34m\u001b[0m\u001b[0m\n",
      "\u001b[0;31mTypeError\u001b[0m: strptime() argument 0 must be str, not <class 'tuple'>"
     ]
    }
   ],
   "source": [
    "print(ff.fun4(\"2008-09-01\", \"2008-09-03\", \"2008-09-04\", \"2008-09-06\", 3877, 357))"
   ]
  },
  {
   "cell_type": "markdown",
   "metadata": {},
   "source": [
    "## Algorithmic question"
   ]
  },
  {
   "cell_type": "code",
   "execution_count": 20,
   "metadata": {},
   "outputs": [
    {
     "name": "stdout",
     "output_type": "stream",
     "text": [
      "False\n",
      "True\n",
      "True\n"
     ]
    }
   ],
   "source": [
    "def solve(n, l):\n",
    "    # Vedere sotto sistemare\n",
    "    d = [0] * n\n",
    "\n",
    "    for el in l:\n",
    "        f = el[0] - 1\n",
    "        s = el[1] -1\n",
    "        if f == s:\n",
    "            return (\"A kid can't fight with himself\")\n",
    "        if d[f] == 0 and d[s] == 0:\n",
    "            d[f] = 1\n",
    "            d[s] = 2\n",
    "        elif d[f] == 0:\n",
    "            if d[s] == 1:\n",
    "                d[f] = 2\n",
    "            else:\n",
    "                d[f] = 1\n",
    "        elif d[s] == 0:\n",
    "            if d[f] == 1:\n",
    "                d[s] = 2\n",
    "            else:\n",
    "                d[s] = 1\n",
    "        elif d[f] == d[s]: # Se sono già stati assegnati non possono esser cambiati\n",
    "            return False\n",
    "\n",
    "    return True\n",
    "\n",
    "n = 10    \n",
    "pairs_no = [(1,3), (3,4), (1,4)]\n",
    "pairs_yes = [(1,2), (3,4), (4,5), (5,8), (1,10)]\n",
    "print(solve(n, pairs_no))\n",
    "print(solve(n, pairs_yes))"
   ]
  }
 ],
 "metadata": {
  "interpreter": {
   "hash": "7473d73b0517ab6f64aa731f2cb80c0acf19c95420055020da77d830c23b4531"
  },
  "kernelspec": {
   "display_name": "Python 3.8.12 64-bit ('base': conda)",
   "language": "python",
   "name": "python3"
  },
  "language_info": {
   "codemirror_mode": {
    "name": "ipython",
    "version": 3
   },
   "file_extension": ".py",
   "mimetype": "text/x-python",
   "name": "python",
   "nbconvert_exporter": "python",
   "pygments_lexer": "ipython3",
   "version": "3.8.12"
  },
  "orig_nbformat": 4
 },
 "nbformat": 4,
 "nbformat_minor": 2
}
