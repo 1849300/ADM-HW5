{
 "cells": [
  {
   "cell_type": "markdown",
   "metadata": {},
   "source": [
    "## Algorithmic question"
   ]
  },
  {
   "cell_type": "code",
   "execution_count": 10,
   "metadata": {},
   "outputs": [
    {
     "name": "stdout",
     "output_type": "stream",
     "text": [
      "False\n",
      "[1, 2, 1, 2, 1, 0, 0, 2, 0, 2]\n",
      "True\n"
     ]
    }
   ],
   "source": [
    "def solve(k, l):\n",
    "    \n",
    "    d = [0] * k\n",
    "\n",
    "    for el in l:\n",
    "        f = el[0] - 1\n",
    "        s = el[1] -1\n",
    "        if d[f] == 0 and d[s] == 0:\n",
    "            d[f] = 1\n",
    "            d[s] = 2\n",
    "        elif d[f] == 0:\n",
    "            if d[s] == 1:\n",
    "                d[f] = 2\n",
    "            else:\n",
    "                d[f] = 1\n",
    "        elif d[s] == 0:\n",
    "            if d[f] == 1:\n",
    "                d[s] = 2\n",
    "            else:\n",
    "                d[s] = 1\n",
    "        elif d[f] == d[s]:\n",
    "            return False\n",
    "\n",
    "    # print(d)\n",
    "    return True\n",
    "\n",
    "k = 10    \n",
    "pairs_no = [(1,3), (3,4), (1,4)]\n",
    "pairs_yes = [(1,2), (3,4), (4,5), (5,8), (1,10)]\n",
    "print(solve(k, pairs_no))\n",
    "print(solve(k, pairs_yes))"
   ]
  }
 ],
 "metadata": {
  "interpreter": {
   "hash": "7473d73b0517ab6f64aa731f2cb80c0acf19c95420055020da77d830c23b4531"
  },
  "kernelspec": {
   "display_name": "Python 3.8.12 64-bit ('base': conda)",
   "language": "python",
   "name": "python3"
  },
  "language_info": {
   "codemirror_mode": {
    "name": "ipython",
    "version": 3
   },
   "file_extension": ".py",
   "mimetype": "text/x-python",
   "name": "python",
   "nbconvert_exporter": "python",
   "pygments_lexer": "ipython3",
   "version": "3.8.12"
  },
  "orig_nbformat": 4
 },
 "nbformat": 4,
 "nbformat_minor": 2
}
