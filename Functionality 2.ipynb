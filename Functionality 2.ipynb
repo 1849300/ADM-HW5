{
 "cells": [
  {
   "cell_type": "code",
   "execution_count": 1,
   "metadata": {},
   "outputs": [],
   "source": [
    "import trees as t\n",
    "from collections import deque \n",
    "import math\n",
    "from tqdm import tqdm"
   ]
  },
  {
   "cell_type": "code",
   "execution_count": 2,
   "metadata": {},
   "outputs": [
    {
     "name": "stdout",
     "output_type": "stream",
     "text": [
      "\n"
     ]
    }
   ],
   "source": [
    "f = 'a'\n",
    "graph = t.build(f, '2016-01-01', '2016-01-02')\n",
    "print(graph)"
   ]
  },
  {
   "cell_type": "markdown",
   "metadata": {},
   "source": [
    "# Functionality 2"
   ]
  },
  {
   "cell_type": "markdown",
   "metadata": {},
   "source": [
    "First, we define shortest_path function, using the Dijkstra’s Algorithm:\n",
    "\n",
    "<p>1) We set a the starting node.<p>\n",
    "<p>2) We set the distances between starting node and all other nodes to infinity, except for the distance between starting node and itself, which we set to 0.<p>\n",
    "<p>3) We choose the node with the smallest value as the “current node” and visit all of its neighboring nodes. As we visit each neighbor, we update their tentative distance from the starting node.<p>\n",
    "<p>4) Once we visit all of the current node’s neighbors and update their distances, we mark the current node as “visited.” Marking a node as “visited” means that we’ve arrived at its final cost.<p>\n",
    "<p>5) We go back to step one. The algorithm loops until it visits all the nodes in the graph.<p> "
   ]
  },
  {
   "cell_type": "code",
   "execution_count": 3,
   "metadata": {},
   "outputs": [],
   "source": [
    "def shortest_path(graph, s, t):\n",
    "    \n",
    "    if s == t:\n",
    "        return \"There is no path, source and target nodes are the same\", -1\n",
    "    \n",
    "    visited, shortest_path, predecessor = list(), dict(), dict()\n",
    "    \n",
    "    # second point\n",
    "    for node in graph.nodes():\n",
    "        shortest_path[node] = math.inf\n",
    "        visited.append(node)\n",
    "    shortest_path[s] = 0\n",
    "    \n",
    "    while visited:                          \n",
    "        current_node = None\n",
    "        for node in visited: \n",
    "            if current_node == None:\n",
    "                current_node = node\n",
    "            elif shortest_path[node] < shortest_path[current_node]:\n",
    "                current_node = node\n",
    "        for neighbor in graph.neighbors(current_node):\n",
    "            value = shortest_path[current_node] + graph[current_node][neighbor]['weight']\n",
    "            if value < shortest_path[neighbor]:\n",
    "                shortest_path[neighbor] = value\n",
    "                predecessor[neighbor] = current_node\n",
    " \n",
    "        visited.remove(current_node)\n",
    "    \n",
    "    # now we have to return the path using predecessor dictionary\n",
    "    if t not in predecessor:\n",
    "        return \"Not possible, there is no path between target and source\", -1\n",
    "    last = t\n",
    "    path = list([last])\n",
    "    while last != s:\n",
    "        path.append(predecessor[last])\n",
    "        last = predecessor[last]\n",
    "        \n",
    "    return path, shortest_path[t]  "
   ]
  },
  {
   "cell_type": "code",
   "execution_count": 4,
   "metadata": {},
   "outputs": [
    {
     "name": "stdout",
     "output_type": "stream",
     "text": [
      "([1507691, 1172798, 5734198, 5730934], 4.0)\n",
      "('There is no path, source and target nodes are the same', -1)\n",
      "('Not possible, there is no path between target and source', -1)\n",
      "([5730934, 1172798, 4046367, 1507691], 5.0)\n"
     ]
    }
   ],
   "source": [
    "print(shortest_path(graph, 5730934, 1507691))\n",
    "print(shortest_path(graph, 5730934, 5730934))\n",
    "print(shortest_path(graph, 5730934, 3519202))\n",
    "print(shortest_path(graph, 1507691, 5730934))"
   ]
  },
  {
   "cell_type": "markdown",
   "metadata": {},
   "source": [
    "### Betweenness centrality\n",
    "Let $n_{s,t}^{i}$ be the number of shortest paths from $s$ to $t$ that pass through $i$ and let $n_{s,t}$ be the total number of shortest paths from $s$ to $t$. Then the betweenness centrality of vertex $i$ is:\n",
    "\n",
    "$\\displaystyle{b_i = \\sum_{s, t} w_{s,t}^{i} = \\sum_{s, t} \\frac{n_{s,t}^{i}}{n_{s,t}}}$"
   ]
  },
  {
   "cell_type": "code",
   "execution_count": 5,
   "metadata": {},
   "outputs": [],
   "source": [
    "def betweenness(v, graph):\n",
    "    num = 0\n",
    "    den = 0\n",
    "    for source in tqdm(graph.nodes()):\n",
    "        for target in graph.nodes():\n",
    "            if source != target and source != v:\n",
    "                path, dist = shortest_path(graph, source, target)\n",
    "                if dist != -1:\n",
    "                    den += 1\n",
    "                    if v in path:\n",
    "                        num += 1\n",
    "    if den == 0:\n",
    "        den = 1\n",
    "    betweenness_centrality = num/den\n",
    "    return betweenness_centrality          "
   ]
  },
  {
   "cell_type": "code",
   "execution_count": null,
   "metadata": {},
   "outputs": [],
   "source": [
    "print(betweenness(5730934, graph))"
   ]
  },
  {
   "cell_type": "markdown",
   "metadata": {},
   "source": [
    "<p>I add this function betweenness_prova to understand if the code was right without running the betweenness centrality on all the graph, because this takes a lot of time! I run the betweenness considering only six nodes of the graph, so pretending in the graph there are only these six nodes: $[1507691, 1172798, 5734198, 5730934, 4046367, 3519202]$<p>\n"
   ]
  },
  {
   "cell_type": "code",
   "execution_count": 8,
   "metadata": {},
   "outputs": [],
   "source": [
    "nodes = list([1507691, 1172798, 5734198, 5730934, 4046367, 3519202])\n",
    "def betweenness_prova(v, graph):\n",
    "    num = 0\n",
    "    den = 0\n",
    "    for source in tqdm(nodes):\n",
    "        for target in nodes:\n",
    "            if source != target and source != v:\n",
    "                path, dist = shortest_path(graph, source, target)\n",
    "                if dist != -1:\n",
    "                    den += 1\n",
    "                    if v in path:\n",
    "                        num += 1\n",
    "    if den == 0:\n",
    "        den = 1 \n",
    "    betweenness_centrality = num/den\n",
    "    return betweenness_centrality "
   ]
  },
  {
   "cell_type": "code",
   "execution_count": 9,
   "metadata": {},
   "outputs": [
    {
     "name": "stderr",
     "output_type": "stream",
     "text": [
      "100%|████████████████████████████████████████████████████████████████████████████████████| 6/6 [03:03<00:00, 30.65s/it]"
     ]
    },
    {
     "name": "stdout",
     "output_type": "stream",
     "text": [
      "0.0\n"
     ]
    },
    {
     "name": "stderr",
     "output_type": "stream",
     "text": [
      "\n"
     ]
    }
   ],
   "source": [
    "print(betweenness_prova(3519202, graph))"
   ]
  },
  {
   "cell_type": "code",
   "execution_count": 10,
   "metadata": {},
   "outputs": [
    {
     "name": "stderr",
     "output_type": "stream",
     "text": [
      "100%|████████████████████████████████████████████████████████████████████████████████████| 6/6 [03:00<00:00, 30.09s/it]"
     ]
    },
    {
     "name": "stdout",
     "output_type": "stream",
     "text": [
      "0.25\n"
     ]
    },
    {
     "name": "stderr",
     "output_type": "stream",
     "text": [
      "\n"
     ]
    }
   ],
   "source": [
    "print(betweenness_prova(1507691, graph))"
   ]
  },
  {
   "cell_type": "code",
   "execution_count": 11,
   "metadata": {},
   "outputs": [
    {
     "name": "stderr",
     "output_type": "stream",
     "text": [
      "100%|████████████████████████████████████████████████████████████████████████████████████| 6/6 [02:57<00:00, 29.51s/it]"
     ]
    },
    {
     "name": "stdout",
     "output_type": "stream",
     "text": [
      "0.4375\n"
     ]
    },
    {
     "name": "stderr",
     "output_type": "stream",
     "text": [
      "\n"
     ]
    }
   ],
   "source": [
    "print(betweenness_prova(5734198, graph))"
   ]
  },
  {
   "cell_type": "code",
   "execution_count": 12,
   "metadata": {},
   "outputs": [
    {
     "name": "stderr",
     "output_type": "stream",
     "text": [
      "100%|████████████████████████████████████████████████████████████████████████████████████| 6/6 [02:56<00:00, 29.49s/it]"
     ]
    },
    {
     "name": "stdout",
     "output_type": "stream",
     "text": [
      "0.8125\n"
     ]
    },
    {
     "name": "stderr",
     "output_type": "stream",
     "text": [
      "\n"
     ]
    }
   ],
   "source": [
    "print(betweenness_prova(1172798, graph))"
   ]
  },
  {
   "cell_type": "code",
   "execution_count": 13,
   "metadata": {},
   "outputs": [
    {
     "name": "stderr",
     "output_type": "stream",
     "text": [
      "100%|████████████████████████████████████████████████████████████████████████████████████| 6/6 [02:58<00:00, 29.72s/it]"
     ]
    },
    {
     "name": "stdout",
     "output_type": "stream",
     "text": [
      "0.25\n"
     ]
    },
    {
     "name": "stderr",
     "output_type": "stream",
     "text": [
      "\n"
     ]
    }
   ],
   "source": [
    "print(betweenness_prova(5730934, graph))"
   ]
  },
  {
   "cell_type": "markdown",
   "metadata": {},
   "source": [
    "### Closeness centrality\n",
    "$C(v)={\\frac  {N-1}{\\sum _{u}d(u,v)}}$\n",
    "- N is the number of total nodes in the graph\n",
    "- $d(u,v)$ is the distance between the nodes u and v"
   ]
  },
  {
   "cell_type": "code",
   "execution_count": 16,
   "metadata": {},
   "outputs": [],
   "source": [
    "N = len(list(graph.nodes()))"
   ]
  },
  {
   "cell_type": "code",
   "execution_count": 24,
   "metadata": {},
   "outputs": [],
   "source": [
    "def closeness(v, graph):\n",
    "    count = 0\n",
    "    for node in tqdm(graph.nodes()):\n",
    "        path, dist = shortest_path(graph, v, node)\n",
    "        if dist != -1:\n",
    "            count += dist\n",
    "    if count == 0:\n",
    "        return \"There is no path between the node in input and all other nodes in the graph!\"\n",
    "    \n",
    "    closeness_centrality = (N - 1) / count\n",
    "    return closeness_centrality"
   ]
  },
  {
   "cell_type": "code",
   "execution_count": null,
   "metadata": {},
   "outputs": [],
   "source": [
    "print(closeness(5730934, graph))"
   ]
  },
  {
   "cell_type": "code",
   "execution_count": 25,
   "metadata": {},
   "outputs": [],
   "source": [
    "def closeness_prova(v, graph):\n",
    "    count = 0\n",
    "    for node in tqdm(nodes):\n",
    "        path, dist = shortest_path(graph, v, node)\n",
    "        if dist != -1:\n",
    "            count += dist\n",
    "    if count == 0:\n",
    "        return \"There is no path between the node in input and all other nodes in the graph!\"\n",
    "    \n",
    "    closeness_centrality = (6 - 1) / count\n",
    "    return closeness_centrality"
   ]
  },
  {
   "cell_type": "code",
   "execution_count": 26,
   "metadata": {},
   "outputs": [
    {
     "name": "stderr",
     "output_type": "stream",
     "text": [
      "100%|████████████████████████████████████████████████████████████████████████████████████| 6/6 [00:37<00:00,  6.20s/it]"
     ]
    },
    {
     "name": "stdout",
     "output_type": "stream",
     "text": [
      "0.3333333333333333\n"
     ]
    },
    {
     "name": "stderr",
     "output_type": "stream",
     "text": [
      "\n"
     ]
    }
   ],
   "source": [
    "print(closeness_prova(5730934, graph))"
   ]
  },
  {
   "cell_type": "markdown",
   "metadata": {},
   "source": [
    "### Degree Centrality\n",
    "\n",
    "$D(v)={\\frac  {degree(v)}{N-1}}$"
   ]
  },
  {
   "cell_type": "code",
   "execution_count": 20,
   "metadata": {},
   "outputs": [],
   "source": [
    "def degree_centrality(v, graph):\n",
    "    degree_centrality = graph.degree(v) / (N-1)\n",
    "    return degree_centrality"
   ]
  },
  {
   "cell_type": "code",
   "execution_count": 21,
   "metadata": {},
   "outputs": [
    {
     "name": "stdout",
     "output_type": "stream",
     "text": [
      "0.0005077688636132832\n"
     ]
    }
   ],
   "source": [
    "print(degree_centrality(5730934, graph))"
   ]
  },
  {
   "cell_type": "markdown",
   "metadata": {},
   "source": [
    "### Page rank\n",
    "The algorithm steps are:\n",
    "- Initialize the PageRank of every node with a value of 1\n",
    "- For each iteration, update the PageRank of every node in the graph\n",
    "- The new PageRank is the sum of the proportional rank of all of its parents\n",
    "- Apply random walk to the new PageRank\n",
    "- PageRank value will converge after enough iterations"
   ]
  },
  {
   "cell_type": "code",
   "execution_count": null,
   "metadata": {},
   "outputs": [],
   "source": [
    "def pagerank_centrality(v, graph, alpha, max_iter):\n",
    "    for node in tqdm(graph.nodes()):\n",
    "        \n",
    "    "
   ]
  },
  {
   "cell_type": "code",
   "execution_count": null,
   "metadata": {},
   "outputs": [],
   "source": []
  },
  {
   "cell_type": "code",
   "execution_count": null,
   "metadata": {},
   "outputs": [],
   "source": []
  },
  {
   "cell_type": "code",
   "execution_count": null,
   "metadata": {},
   "outputs": [],
   "source": []
  }
 ],
 "metadata": {
  "kernelspec": {
   "display_name": "Python 3",
   "language": "python",
   "name": "python3"
  },
  "language_info": {
   "codemirror_mode": {
    "name": "ipython",
    "version": 3
   },
   "file_extension": ".py",
   "mimetype": "text/x-python",
   "name": "python",
   "nbconvert_exporter": "python",
   "pygments_lexer": "ipython3",
   "version": "3.8.5"
  }
 },
 "nbformat": 4,
 "nbformat_minor": 4
}
