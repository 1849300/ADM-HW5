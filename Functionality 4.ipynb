{
 "cells": [
  {
   "cell_type": "markdown",
   "metadata": {},
   "source": [
    "# Functionality 4"
   ]
  },
  {
   "cell_type": "code",
   "execution_count": 22,
   "metadata": {},
   "outputs": [],
   "source": [
    "import pandas as pd\n",
    "import os\n",
    "import time\n",
    "import networkx as nx\n",
    "import trees as t"
   ]
  },
  {
   "cell_type": "code",
   "execution_count": 23,
   "metadata": {},
   "outputs": [],
   "source": [
    "# Non usarla\n",
    "def create_txt_fun4(start1, stop1, start2, stop2):\n",
    "    for f in ['a2q', 'c2a', 'c2q']:\n",
    "        fn = 'sx-stackoverflow-' + f + '.txt'\n",
    "        df = pd.read_csv(fn, sep=' ')\n",
    "        df.columns = ['u', 'v', 'timestamp']\n",
    "        \n",
    "        cond_1 = (df['timestamp'] >= start1) & (df[\"timestamp\"] <= stop1)\n",
    "        sub_data = df.loc[cond_1, :]\n",
    "        sub_data.to_csv(f+'.txt', sep=',', index=False, header=False)\n",
    "        \n",
    "        cond_2 = (df['timestamp'] >= start2) & (df[\"timestamp\"] <= stop2)\n",
    "        sub_data = df.loc[cond_2, :]\n",
    "        sub_data.to_csv(f+'.txt', sep=',', index=False, header=False)"
   ]
  },
  {
   "cell_type": "code",
   "execution_count": 24,
   "metadata": {},
   "outputs": [],
   "source": [
    "# Non usarla\n",
    "def build_fun4(start1, stop1, start2, stop2):\n",
    "    \n",
    "    start1 = time.mktime(time.strptime(start1, '%Y-%m-%d'))\n",
    "    stop1 = time.mktime(time.strptime(stop1, '%Y-%m-%d'))\n",
    "    \n",
    "    start2 = time.mktime(time.strptime(start2, '%Y-%m-%d'))\n",
    "    stop2 = time.mktime(time.strptime(stop2, '%Y-%m-%d'))\n",
    "\n",
    "    # if check():  # If there aren't txt files it calls the function to create them\n",
    "    create_txt_fun4(start1, stop1, start2, stop2)\n",
    "\n",
    "    G = nx.DiGraph()  # Initialize graph\n",
    "    w = 4\n",
    "    for el in ['a2q', 'c2a', 'c2q']:\n",
    "        # filter_dataset(el, start, stop)\n",
    "        w /= 2  # It halves the weight each time it opens a new file\n",
    "        with open(el+'.txt') as f:\n",
    "            for line in f:\n",
    "                u, v, _ = map(int, line.split(','))\n",
    "                if u != v:\n",
    "                    if (u, v) in G.edges:\n",
    "                        tmp_w = G.get_edge_data(u, v)['weight']\n",
    "                        G.add_edge(u, v, weight=w+tmp_w)\n",
    "                    else:\n",
    "                        G.add_edge(u, v, weight=w)\n",
    "    return G"
   ]
  },
  {
   "cell_type": "code",
   "execution_count": 25,
   "metadata": {},
   "outputs": [],
   "source": [
    "def create_check_unique_nodes(start_1, end_1, start_2, end_2, user_1, user_2):\n",
    "    check = True\n",
    "    # create the two graphs for the intervals time in input\n",
    "    # Non usare le successive due righe, usane una solo per generare direttamente il grafo unito\n",
    "    graph_1 = t.build(\"a\", start_1, end_1)\n",
    "    graph_2 = t.build(\"a\", start_2, end_2)\n",
    "    \n",
    "    # collecting the nodes in the two graphs\n",
    "    nodes_1 = list(graph_1.nodes())\n",
    "    nodes_2 = list(graph_2.nodes())\n",
    "    # collect all the nodes in the two different graphs\n",
    "    nodes_1_2 = nodes_1 + nodes_2\n",
    "    # check wether the user_1 node in input is only in the graph_1\n",
    "    # check wether the user_2 node in input is only in the graph_2\n",
    "    if (user_1 in nodes_2) or (user_2 in nodes_1):\n",
    "        check = False\n",
    "    return check"
   ]
  },
  {
   "cell_type": "code",
   "execution_count": 26,
   "metadata": {},
   "outputs": [],
   "source": [
    "def bfs(graph, user_1, user_2):\n",
    "    # initialize the predecessor dictionary to keep track of the path\n",
    "    visisted, predecessor, path = list(), dict(), list()\n",
    "    find = False\n",
    "    \n",
    "    # define the queue list and initizalize queue and visited with user_1 node (our souce)\n",
    "    queue = [user_1] \n",
    "    visited.append(user_1)\n",
    "    # loop untile the queue is empty\n",
    "    while queue != []:\n",
    "        # extract the first element from the queue \n",
    "        v = queue.pop(0)\n",
    "        # considering all the neighbours of the node v\n",
    "        for neighbour in graph.neighbors(v):\n",
    "            # if the neighbour has not been visited then we update the visited and queue list and predecessor dictionary\n",
    "            if  (neighbour not in visited) and (graph[v][neighbour][\"weigth\"] > 0):\n",
    "                visited.append(neighbour)\n",
    "                queue.append(neighbour)\n",
    "                predecessor[neighbour] = v\n",
    "                # if finally the neighbour correspond to the target (i.e. user_2) we reconstruct the path using predecessor\n",
    "                if neighbour == user_2:\n",
    "                    last = user_2\n",
    "                    path = list([last])\n",
    "                    while last != user_1:\n",
    "                        path.append(predecessor[last])\n",
    "                        last = predecessor[last]\n",
    "                    find = True\n",
    "                    break\n",
    "    return find, predecessor, path"
   ]
  },
  {
   "cell_type": "code",
   "execution_count": 27,
   "metadata": {},
   "outputs": [],
   "source": [
    "def FordFulkerson(graph, user_1, user_2):\n",
    "    \n",
    "    find, predecessor = bfs(graph, user_1, user_2)\n",
    "    \n",
    "    while find:\n",
    "        path_flow = math.inf\n",
    "        last = user_2\n",
    "        \n",
    "        while last != user_1:\n",
    "            path_flow = min(path_flow, graph[predecessor[last]][last][\"weight\"])\n",
    "            target = predecessor[last]\n",
    "            \n",
    "        target = user_2\n",
    "        while target != user_1:\n",
    "            source = predecessor[target]\n",
    "            graph[source][target][\"weight\"] -= path_flow\n",
    "            target = source\n",
    "            \n",
    "    min_edges = 0\n",
    "    for (i,j) in graph.edges:\n",
    "        if (graph[i][j][\"weigth\"] == 0) and (i in path) and (j in path):\n",
    "            min_edges += 1\n",
    "    return min_edges        "
   ]
  },
  {
   "cell_type": "code",
   "execution_count": 29,
   "metadata": {},
   "outputs": [],
   "source": [
    "def functionality_4(start_1, end_1, start_2, end_2, user_1, user_2):\n",
    "    # check if the the nodes are unique for the two separated graphs\n",
    "    check = create_check_unique_nodes(start_1, end_1, start_2, end_2, user_1, user_2)\n",
    "    if check == False:\n",
    "        return \"The nodes in input should be unique for each graph\"\n",
    "    # create the graph considering two different intervals of time\n",
    "    graph = build_fun4(start_1, end_1, start_2, end_2)\n",
    "    #using FordFulkerson function to find the min_edges\n",
    "    min_edges = FordFulkerson(graph, user_1, user_2)\n",
    "    return min_edges"
   ]
  },
  {
   "cell_type": "code",
   "execution_count": null,
   "metadata": {},
   "outputs": [],
   "source": [
    "print(functionality_4(\"2016-01-01\", \"2016-01-02\", \"2016-01-03\", \"2016-01-04\", user_1, user_2))"
   ]
  }
 ],
 "metadata": {
  "kernelspec": {
   "display_name": "Python 3",
   "language": "python",
   "name": "python3"
  },
  "language_info": {
   "codemirror_mode": {
    "name": "ipython",
    "version": 3
   },
   "file_extension": ".py",
   "mimetype": "text/x-python",
   "name": "python",
   "nbconvert_exporter": "python",
   "pygments_lexer": "ipython3",
   "version": "3.8.12"
  }
 },
 "nbformat": 4,
 "nbformat_minor": 4
}
